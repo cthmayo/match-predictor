{
  "nbformat": 4,
  "nbformat_minor": 0,
  "metadata": {
    "colab": {
      "name": "Profightdb Scraper.ipynb",
      "provenance": [],
      "collapsed_sections": [],
      "authorship_tag": "ABX9TyNEXeB8eLQW4VLG/yyWF9rx",
      "include_colab_link": true
    },
    "kernelspec": {
      "name": "python3",
      "display_name": "Python 3"
    }
  },
  "cells": [
    {
      "cell_type": "markdown",
      "metadata": {
        "id": "view-in-github",
        "colab_type": "text"
      },
      "source": [
        "<a href=\"https://colab.research.google.com/github/cthmayo/match-predictor/blob/main/Predicting-Wrestle-Kingdom-15.ipynb\" target=\"_parent\"><img src=\"https://colab.research.google.com/assets/colab-badge.svg\" alt=\"Open In Colab\"/></a>"
      ]
    },
    {
      "cell_type": "markdown",
      "metadata": {
        "id": "OiiZ-NFxIhp6"
      },
      "source": [
        "# Predicting the Wrestle Kingdom 15 card using machine learning"
      ]
    },
    {
      "cell_type": "markdown",
      "metadata": {
        "id": "COEmggoLImwU"
      },
      "source": [
        "In this project, I will attempt to use machine learning to predict the results of the New Japan Pro Wrestling Wrestle Kingdom 15 card.\r\n",
        "\r\n",
        "Broadly speaking, there are three stages to achieving this:\r\n",
        "1. Extract NJPW match data from www.profightdb.com.\r\n",
        "2. Data preparation.\r\n",
        "3. Machine learning and predictions."
      ]
    },
    {
      "cell_type": "markdown",
      "metadata": {
        "id": "6vERHU37OZef"
      },
      "source": [
        "# Imports"
      ]
    },
    {
      "cell_type": "markdown",
      "metadata": {
        "id": "41YPMx9DKSTB"
      },
      "source": [
        "BeautifulSoup is the Python library I will use "
      ]
    },
    {
      "cell_type": "code",
      "metadata": {
        "id": "7akmWlT355ud"
      },
      "source": [
        "from urllib.request import urlopen\n",
        "from bs4 import BeautifulSoup\n",
        "import numpy as np\n",
        "import pandas as pd\n",
        "import datetime\n",
        "from dateutil.parser import parse\n",
        "from tqdm.notebook import tqdm_notebook\n",
        "tqdm_notebook.pandas()\n",
        "import matplotlib.pyplot as plt"
      ],
      "execution_count": null,
      "outputs": []
    },
    {
      "cell_type": "markdown",
      "metadata": {
        "id": "wjIqX9HROdF6"
      },
      "source": [
        "# Webscraping"
      ]
    },
    {
      "cell_type": "markdown",
      "metadata": {
        "id": "ltaQ0fryUiSo"
      },
      "source": [
        "Webscraping the cards list of cards from profightdb."
      ]
    },
    {
      "cell_type": "code",
      "metadata": {
        "id": "g62k2RZU-koL"
      },
      "source": [
        "def get_cards_from_page(url):\n",
        "  page = urlopen(url)\n",
        "  html = page.read().decode('utf-8')\n",
        "  soup = BeautifulSoup(html, \"html.parser\")\n",
        "  links = soup.find_all('a')\n",
        "  cards = [link['href'] for link in links if 'cards/njpw/' in link['href']]\n",
        "  return cards"
      ],
      "execution_count": null,
      "outputs": []
    },
    {
      "cell_type": "markdown",
      "metadata": {
        "id": "Sc_oPSi4VUCw"
      },
      "source": [
        "Need to interpret star ratings."
      ]
    },
    {
      "cell_type": "code",
      "metadata": {
        "id": "BwLRQ3DSgIdv"
      },
      "source": [
        "def star_rating(raw_rating):\n",
        "  if raw_rating == '':\n",
        "    return None\n",
        "  if 'DUD' in raw_rating:\n",
        "    return 0\n",
        "  rating = 0\n",
        "  for char in raw_rating:\n",
        "    star_dict = {'*':1, '¼':0.25, '½':0.5, '¾':0.75, '-':0}\n",
        "    rating += star_dict[char]\n",
        "  if '-' in raw_rating:\n",
        "    rating = -rating\n",
        "  return rating"
      ],
      "execution_count": null,
      "outputs": []
    },
    {
      "cell_type": "markdown",
      "metadata": {
        "id": "Fyjx4CfUVyT5"
      },
      "source": [
        "Code to extract all the singles matches from a particular card, and output in a pandas dataframe."
      ]
    },
    {
      "cell_type": "code",
      "metadata": {
        "id": "1LINPI7HlDzf"
      },
      "source": [
        "def get_matches(url_ending):\n",
        "  # load the page\n",
        "  url = 'http://www.profightdb.com' + url_ending\n",
        "  page = urlopen(url)\n",
        "  html = page.read().decode('utf-8')\n",
        "  soup = BeautifulSoup(html, \"html.parser\")\n",
        "\n",
        "  # define basic data about the event\n",
        "  event = soup.find_all('h1')[-1].text.strip()\n",
        "  date = None\n",
        "  venue = None\n",
        "  attendance = None\n",
        "\n",
        "  # get all the table rows\n",
        "  rows = [row for row in soup.find_all('tr')]\n",
        "  matches = []\n",
        "\n",
        "  for row in soup.find_all('tr'):\n",
        "    cells = row.find_all('td')\n",
        "    # get date\n",
        "    if len(cells) > 0 and cells[0].text[:5] == 'Date:':\n",
        "      date = parse(cells[0].text[6:])\n",
        "    # get venue\n",
        "    if len(cells) > 0 and cells[0].text[:6] == 'Venue:':\n",
        "      venue = cells[0].text[8:]\n",
        "    # get attendance\n",
        "    if len(cells) > 0 and cells[0].text[:11] == 'Attendance:':\n",
        "      attendance = cells[0].text[12:].replace(',','')\n",
        "    if len(cells) > 3:\n",
        "      matches.append(cells)\n",
        "  \n",
        "  df_matches = pd.DataFrame()\n",
        "  ranking = len(matches)\n",
        "  for match in matches: # go through every match\n",
        "    anomaly_flag = False\n",
        "    d = {}\n",
        "    if not ('&' in match[1].text) and not (',' in match[1].text): # only looking at singles matches\n",
        "      d['Card Ranking'] = ranking\n",
        "      d['Result Descriptor'] = match[2].text\n",
        "      d['Match Time'] = match[4].text\n",
        "      d['Stipulation'] = match[5].text\n",
        "      if 'title change' in match[6].text:\n",
        "        d['Title'] = match[6].text[:-14].strip()\n",
        "      else:\n",
        "        d['Title'] = match[6].text.strip()\n",
        "      if len(match) > 7:\n",
        "        d['WON Rating'] = star_rating(match[7].text)\n",
        "      else:\n",
        "        d['WON Rating'] = None\n",
        "\n",
        "      links = match[1].find_all('a')\n",
        "      if len(links) == 0:\n",
        "        anomaly_flag = True\n",
        "        d['Person 1 ID'] = 'unknown'\n",
        "      else:\n",
        "        d['Person 1 ID'] = links[0]['href']\n",
        "      if match[1].text[-3:].lower() == '(c)':\n",
        "        d['Person 1 Champion'] = True\n",
        "        d['Person 1 Name'] = match[1].text[:-4]\n",
        "      else:\n",
        "        d['Person 1 Champion'] = False\n",
        "        d['Person 1 Name'] = match[1].text\n",
        "\n",
        "      links = match[3].find_all('a')\n",
        "      if len(links) == 0:\n",
        "        anomaly_flag = True\n",
        "        d['Person 2 ID'] = 'unknown'\n",
        "      else:\n",
        "        d['Person 2 ID'] = links[0]['href']\n",
        "      if match[3].text[-3:].lower() == '(c)':\n",
        "        d['Person 2 Champion'] = True\n",
        "        d['Person 2 Name'] = match[3].text[:-4]\n",
        "      else:\n",
        "        d['Person 2 Champion'] = False\n",
        "        d['Person 2 Name'] = match[3].text\n",
        "      \n",
        "      df_matches = df_matches.append(d, ignore_index = True)\n",
        "\n",
        "      if anomaly_flag == True:\n",
        "        print('Issue with',d['Person 1 Name'],'vs',d['Person 2 Name'],'from',event)\n",
        "    ranking -= 1\n",
        "    df_matches['Date'] = date\n",
        "    df_matches['Event'] = event\n",
        "    df_matches['Venue'] = venue\n",
        "    df_matches['Attendance'] = attendance\n",
        "\n",
        "  return df_matches"
      ],
      "execution_count": null,
      "outputs": []
    },
    {
      "cell_type": "code",
      "metadata": {
        "id": "NMKgPRM7lqGw",
        "colab": {
          "base_uri": "https://localhost:8080/"
        },
        "outputId": "ad0982b7-d53e-4e57-e0f3-5576a6cad99c"
      },
      "source": [
        "get_matches('/cards/njpw/g1-climax-2020---day-19-34899.html')"
      ],
      "execution_count": null,
      "outputs": [
        {
          "output_type": "execute_result",
          "data": {
            "text/html": [
              "<div>\n",
              "<style scoped>\n",
              "    .dataframe tbody tr th:only-of-type {\n",
              "        vertical-align: middle;\n",
              "    }\n",
              "\n",
              "    .dataframe tbody tr th {\n",
              "        vertical-align: top;\n",
              "    }\n",
              "\n",
              "    .dataframe thead th {\n",
              "        text-align: right;\n",
              "    }\n",
              "</style>\n",
              "<table border=\"1\" class=\"dataframe\">\n",
              "  <thead>\n",
              "    <tr style=\"text-align: right;\">\n",
              "      <th></th>\n",
              "      <th>Date</th>\n",
              "      <th>Event</th>\n",
              "      <th>Venue</th>\n",
              "      <th>Attendance</th>\n",
              "      <th>Card Ranking</th>\n",
              "      <th>Match Time</th>\n",
              "      <th>Person 1 Champion</th>\n",
              "      <th>Person 1 ID</th>\n",
              "      <th>Person 1 Name</th>\n",
              "      <th>Person 2 Champion</th>\n",
              "      <th>Person 2 ID</th>\n",
              "      <th>Person 2 Name</th>\n",
              "      <th>Result Descriptor</th>\n",
              "      <th>Stipulation</th>\n",
              "      <th>Title</th>\n",
              "      <th>WON Rating</th>\n",
              "    </tr>\n",
              "  </thead>\n",
              "  <tbody>\n",
              "    <tr>\n",
              "      <th>0</th>\n",
              "      <td>2020-10-18</td>\n",
              "      <td>NJPW G1 Climax 2020 - Day 19</td>\n",
              "      <td>Ryogoku Kokugikan, Tokyo, Tokyo</td>\n",
              "      <td>2928</td>\n",
              "      <td>1.0</td>\n",
              "      <td>35:12</td>\n",
              "      <td>0.0</td>\n",
              "      <td>/wrestlers/kota-ibushi-3893.html</td>\n",
              "      <td>Kota Ibushi</td>\n",
              "      <td>0.0</td>\n",
              "      <td>/wrestlers/seiya-sanada-5261.html</td>\n",
              "      <td>SANADA</td>\n",
              "      <td>def. (pin)</td>\n",
              "      <td></td>\n",
              "      <td></td>\n",
              "      <td>4.25</td>\n",
              "    </tr>\n",
              "  </tbody>\n",
              "</table>\n",
              "</div>"
            ],
            "text/plain": [
              "        Date                         Event  ... Title WON Rating\n",
              "0 2020-10-18  NJPW G1 Climax 2020 - Day 19  ...             4.25\n",
              "\n",
              "[1 rows x 16 columns]"
            ]
          },
          "metadata": {
            "tags": []
          },
          "execution_count": 5
        }
      ]
    },
    {
      "cell_type": "code",
      "metadata": {
        "id": "esiFlJ9MmX2P"
      },
      "source": [
        "def get_all_matches_from_page(url):\n",
        "  cards = get_cards_from_page(url)\n",
        "  df_matches = pd.DataFrame()\n",
        "  for card in cards:\n",
        "    card_matches = get_matches(card)\n",
        "    df_matches = df_matches.append(card_matches)\n",
        "  return df_matches"
      ],
      "execution_count": null,
      "outputs": []
    },
    {
      "cell_type": "markdown",
      "metadata": {
        "id": "sUqMe09AWF_O"
      },
      "source": [
        "Code to extract all matches on profightdb under 'njpw-cards'"
      ]
    },
    {
      "cell_type": "code",
      "metadata": {
        "id": "-nLsSR7IqYR1"
      },
      "source": [
        "def get_all_matches_ever():\n",
        "  df_matches = pd.DataFrame()\n",
        "  for i in range(1,350):\n",
        "    url = 'http://www.profightdb.com/cards/njpw-cards-pg'+str(i)+'-no-27.html'\n",
        "    print('Getting matches from',url)\n",
        "    page_matches = get_all_matches_from_page(url)\n",
        "    df_matches = df_matches.append(page_matches)\n",
        "  return df_matches"
      ],
      "execution_count": null,
      "outputs": []
    },
    {
      "cell_type": "code",
      "metadata": {
        "id": "6DIVb4ljrbzK",
        "colab": {
          "base_uri": "https://localhost:8080/"
        },
        "outputId": "adcfac9a-f4b4-4447-ebf1-dfa8e01eabe4"
      },
      "source": [
        "all_matches = get_all_matches_ever()"
      ],
      "execution_count": null,
      "outputs": [
        {
          "output_type": "stream",
          "text": [
            "Getting matches from http://www.profightdb.com/cards/njpw-cards-pg1-no-27.html\n",
            "Getting matches from http://www.profightdb.com/cards/njpw-cards-pg2-no-27.html\n",
            "Getting matches from http://www.profightdb.com/cards/njpw-cards-pg3-no-27.html\n",
            "Getting matches from http://www.profightdb.com/cards/njpw-cards-pg4-no-27.html\n",
            "Getting matches from http://www.profightdb.com/cards/njpw-cards-pg5-no-27.html\n",
            "Getting matches from http://www.profightdb.com/cards/njpw-cards-pg6-no-27.html\n",
            "Getting matches from http://www.profightdb.com/cards/njpw-cards-pg7-no-27.html\n",
            "Getting matches from http://www.profightdb.com/cards/njpw-cards-pg8-no-27.html\n",
            "Getting matches from http://www.profightdb.com/cards/njpw-cards-pg9-no-27.html\n",
            "Getting matches from http://www.profightdb.com/cards/njpw-cards-pg10-no-27.html\n",
            "Getting matches from http://www.profightdb.com/cards/njpw-cards-pg11-no-27.html\n",
            "Getting matches from http://www.profightdb.com/cards/njpw-cards-pg12-no-27.html\n",
            "Getting matches from http://www.profightdb.com/cards/njpw-cards-pg13-no-27.html\n",
            "Getting matches from http://www.profightdb.com/cards/njpw-cards-pg14-no-27.html\n",
            "Getting matches from http://www.profightdb.com/cards/njpw-cards-pg15-no-27.html\n",
            "Getting matches from http://www.profightdb.com/cards/njpw-cards-pg16-no-27.html\n",
            "Getting matches from http://www.profightdb.com/cards/njpw-cards-pg17-no-27.html\n",
            "Getting matches from http://www.profightdb.com/cards/njpw-cards-pg18-no-27.html\n",
            "Getting matches from http://www.profightdb.com/cards/njpw-cards-pg19-no-27.html\n",
            "Getting matches from http://www.profightdb.com/cards/njpw-cards-pg20-no-27.html\n",
            "Getting matches from http://www.profightdb.com/cards/njpw-cards-pg21-no-27.html\n",
            "Getting matches from http://www.profightdb.com/cards/njpw-cards-pg22-no-27.html\n",
            "Getting matches from http://www.profightdb.com/cards/njpw-cards-pg23-no-27.html\n",
            "Getting matches from http://www.profightdb.com/cards/njpw-cards-pg24-no-27.html\n",
            "Getting matches from http://www.profightdb.com/cards/njpw-cards-pg25-no-27.html\n",
            "Getting matches from http://www.profightdb.com/cards/njpw-cards-pg26-no-27.html\n",
            "Getting matches from http://www.profightdb.com/cards/njpw-cards-pg27-no-27.html\n",
            "Getting matches from http://www.profightdb.com/cards/njpw-cards-pg28-no-27.html\n",
            "Getting matches from http://www.profightdb.com/cards/njpw-cards-pg29-no-27.html\n",
            "Getting matches from http://www.profightdb.com/cards/njpw-cards-pg30-no-27.html\n",
            "Getting matches from http://www.profightdb.com/cards/njpw-cards-pg31-no-27.html\n",
            "Getting matches from http://www.profightdb.com/cards/njpw-cards-pg32-no-27.html\n",
            "Getting matches from http://www.profightdb.com/cards/njpw-cards-pg33-no-27.html\n",
            "Getting matches from http://www.profightdb.com/cards/njpw-cards-pg34-no-27.html\n",
            "Getting matches from http://www.profightdb.com/cards/njpw-cards-pg35-no-27.html\n",
            "Getting matches from http://www.profightdb.com/cards/njpw-cards-pg36-no-27.html\n",
            "Getting matches from http://www.profightdb.com/cards/njpw-cards-pg37-no-27.html\n",
            "Getting matches from http://www.profightdb.com/cards/njpw-cards-pg38-no-27.html\n",
            "Getting matches from http://www.profightdb.com/cards/njpw-cards-pg39-no-27.html\n",
            "Getting matches from http://www.profightdb.com/cards/njpw-cards-pg40-no-27.html\n",
            "Getting matches from http://www.profightdb.com/cards/njpw-cards-pg41-no-27.html\n",
            "Getting matches from http://www.profightdb.com/cards/njpw-cards-pg42-no-27.html\n",
            "Getting matches from http://www.profightdb.com/cards/njpw-cards-pg43-no-27.html\n",
            "Getting matches from http://www.profightdb.com/cards/njpw-cards-pg44-no-27.html\n",
            "Getting matches from http://www.profightdb.com/cards/njpw-cards-pg45-no-27.html\n",
            "Getting matches from http://www.profightdb.com/cards/njpw-cards-pg46-no-27.html\n",
            "Getting matches from http://www.profightdb.com/cards/njpw-cards-pg47-no-27.html\n",
            "Getting matches from http://www.profightdb.com/cards/njpw-cards-pg48-no-27.html\n",
            "Getting matches from http://www.profightdb.com/cards/njpw-cards-pg49-no-27.html\n",
            "Getting matches from http://www.profightdb.com/cards/njpw-cards-pg50-no-27.html\n",
            "Getting matches from http://www.profightdb.com/cards/njpw-cards-pg51-no-27.html\n",
            "Getting matches from http://www.profightdb.com/cards/njpw-cards-pg52-no-27.html\n",
            "Getting matches from http://www.profightdb.com/cards/njpw-cards-pg53-no-27.html\n",
            "Getting matches from http://www.profightdb.com/cards/njpw-cards-pg54-no-27.html\n",
            "Getting matches from http://www.profightdb.com/cards/njpw-cards-pg55-no-27.html\n",
            "Getting matches from http://www.profightdb.com/cards/njpw-cards-pg56-no-27.html\n",
            "Getting matches from http://www.profightdb.com/cards/njpw-cards-pg57-no-27.html\n",
            "Getting matches from http://www.profightdb.com/cards/njpw-cards-pg58-no-27.html\n",
            "Getting matches from http://www.profightdb.com/cards/njpw-cards-pg59-no-27.html\n",
            "Getting matches from http://www.profightdb.com/cards/njpw-cards-pg60-no-27.html\n",
            "Getting matches from http://www.profightdb.com/cards/njpw-cards-pg61-no-27.html\n",
            "Getting matches from http://www.profightdb.com/cards/njpw-cards-pg62-no-27.html\n",
            "Getting matches from http://www.profightdb.com/cards/njpw-cards-pg63-no-27.html\n",
            "Getting matches from http://www.profightdb.com/cards/njpw-cards-pg64-no-27.html\n",
            "Getting matches from http://www.profightdb.com/cards/njpw-cards-pg65-no-27.html\n",
            "Getting matches from http://www.profightdb.com/cards/njpw-cards-pg66-no-27.html\n",
            "Getting matches from http://www.profightdb.com/cards/njpw-cards-pg67-no-27.html\n",
            "Getting matches from http://www.profightdb.com/cards/njpw-cards-pg68-no-27.html\n",
            "Getting matches from http://www.profightdb.com/cards/njpw-cards-pg69-no-27.html\n",
            "Getting matches from http://www.profightdb.com/cards/njpw-cards-pg70-no-27.html\n",
            "Getting matches from http://www.profightdb.com/cards/njpw-cards-pg71-no-27.html\n",
            "Getting matches from http://www.profightdb.com/cards/njpw-cards-pg72-no-27.html\n",
            "Getting matches from http://www.profightdb.com/cards/njpw-cards-pg73-no-27.html\n",
            "Getting matches from http://www.profightdb.com/cards/njpw-cards-pg74-no-27.html\n",
            "Getting matches from http://www.profightdb.com/cards/njpw-cards-pg75-no-27.html\n",
            "Getting matches from http://www.profightdb.com/cards/njpw-cards-pg76-no-27.html\n",
            "Getting matches from http://www.profightdb.com/cards/njpw-cards-pg77-no-27.html\n",
            "Getting matches from http://www.profightdb.com/cards/njpw-cards-pg78-no-27.html\n",
            "Getting matches from http://www.profightdb.com/cards/njpw-cards-pg79-no-27.html\n",
            "Getting matches from http://www.profightdb.com/cards/njpw-cards-pg80-no-27.html\n",
            "Getting matches from http://www.profightdb.com/cards/njpw-cards-pg81-no-27.html\n",
            "Getting matches from http://www.profightdb.com/cards/njpw-cards-pg82-no-27.html\n",
            "Getting matches from http://www.profightdb.com/cards/njpw-cards-pg83-no-27.html\n",
            "Getting matches from http://www.profightdb.com/cards/njpw-cards-pg84-no-27.html\n",
            "Getting matches from http://www.profightdb.com/cards/njpw-cards-pg85-no-27.html\n",
            "Getting matches from http://www.profightdb.com/cards/njpw-cards-pg86-no-27.html\n",
            "Getting matches from http://www.profightdb.com/cards/njpw-cards-pg87-no-27.html\n",
            "Getting matches from http://www.profightdb.com/cards/njpw-cards-pg88-no-27.html\n",
            "Getting matches from http://www.profightdb.com/cards/njpw-cards-pg89-no-27.html\n",
            "Getting matches from http://www.profightdb.com/cards/njpw-cards-pg90-no-27.html\n",
            "Getting matches from http://www.profightdb.com/cards/njpw-cards-pg91-no-27.html\n",
            "Getting matches from http://www.profightdb.com/cards/njpw-cards-pg92-no-27.html\n",
            "Getting matches from http://www.profightdb.com/cards/njpw-cards-pg93-no-27.html\n",
            "Getting matches from http://www.profightdb.com/cards/njpw-cards-pg94-no-27.html\n",
            "Getting matches from http://www.profightdb.com/cards/njpw-cards-pg95-no-27.html\n",
            "Getting matches from http://www.profightdb.com/cards/njpw-cards-pg96-no-27.html\n",
            "Getting matches from http://www.profightdb.com/cards/njpw-cards-pg97-no-27.html\n",
            "Getting matches from http://www.profightdb.com/cards/njpw-cards-pg98-no-27.html\n",
            "Getting matches from http://www.profightdb.com/cards/njpw-cards-pg99-no-27.html\n",
            "Getting matches from http://www.profightdb.com/cards/njpw-cards-pg100-no-27.html\n",
            "Getting matches from http://www.profightdb.com/cards/njpw-cards-pg101-no-27.html\n",
            "Getting matches from http://www.profightdb.com/cards/njpw-cards-pg102-no-27.html\n",
            "Getting matches from http://www.profightdb.com/cards/njpw-cards-pg103-no-27.html\n",
            "Getting matches from http://www.profightdb.com/cards/njpw-cards-pg104-no-27.html\n",
            "Getting matches from http://www.profightdb.com/cards/njpw-cards-pg105-no-27.html\n",
            "Getting matches from http://www.profightdb.com/cards/njpw-cards-pg106-no-27.html\n",
            "Getting matches from http://www.profightdb.com/cards/njpw-cards-pg107-no-27.html\n",
            "Getting matches from http://www.profightdb.com/cards/njpw-cards-pg108-no-27.html\n",
            "Getting matches from http://www.profightdb.com/cards/njpw-cards-pg109-no-27.html\n",
            "Getting matches from http://www.profightdb.com/cards/njpw-cards-pg110-no-27.html\n",
            "Getting matches from http://www.profightdb.com/cards/njpw-cards-pg111-no-27.html\n",
            "Getting matches from http://www.profightdb.com/cards/njpw-cards-pg112-no-27.html\n",
            "Getting matches from http://www.profightdb.com/cards/njpw-cards-pg113-no-27.html\n",
            "Getting matches from http://www.profightdb.com/cards/njpw-cards-pg114-no-27.html\n",
            "Getting matches from http://www.profightdb.com/cards/njpw-cards-pg115-no-27.html\n",
            "Getting matches from http://www.profightdb.com/cards/njpw-cards-pg116-no-27.html\n",
            "Getting matches from http://www.profightdb.com/cards/njpw-cards-pg117-no-27.html\n",
            "Getting matches from http://www.profightdb.com/cards/njpw-cards-pg118-no-27.html\n",
            "Getting matches from http://www.profightdb.com/cards/njpw-cards-pg119-no-27.html\n",
            "Getting matches from http://www.profightdb.com/cards/njpw-cards-pg120-no-27.html\n",
            "Getting matches from http://www.profightdb.com/cards/njpw-cards-pg121-no-27.html\n",
            "Getting matches from http://www.profightdb.com/cards/njpw-cards-pg122-no-27.html\n",
            "Getting matches from http://www.profightdb.com/cards/njpw-cards-pg123-no-27.html\n",
            "Getting matches from http://www.profightdb.com/cards/njpw-cards-pg124-no-27.html\n",
            "Getting matches from http://www.profightdb.com/cards/njpw-cards-pg125-no-27.html\n",
            "Getting matches from http://www.profightdb.com/cards/njpw-cards-pg126-no-27.html\n",
            "Getting matches from http://www.profightdb.com/cards/njpw-cards-pg127-no-27.html\n",
            "Getting matches from http://www.profightdb.com/cards/njpw-cards-pg128-no-27.html\n",
            "Getting matches from http://www.profightdb.com/cards/njpw-cards-pg129-no-27.html\n",
            "Getting matches from http://www.profightdb.com/cards/njpw-cards-pg130-no-27.html\n",
            "Getting matches from http://www.profightdb.com/cards/njpw-cards-pg131-no-27.html\n",
            "Getting matches from http://www.profightdb.com/cards/njpw-cards-pg132-no-27.html\n",
            "Getting matches from http://www.profightdb.com/cards/njpw-cards-pg133-no-27.html\n",
            "Getting matches from http://www.profightdb.com/cards/njpw-cards-pg134-no-27.html\n",
            "Getting matches from http://www.profightdb.com/cards/njpw-cards-pg135-no-27.html\n",
            "Getting matches from http://www.profightdb.com/cards/njpw-cards-pg136-no-27.html\n",
            "Getting matches from http://www.profightdb.com/cards/njpw-cards-pg137-no-27.html\n",
            "Getting matches from http://www.profightdb.com/cards/njpw-cards-pg138-no-27.html\n",
            "Getting matches from http://www.profightdb.com/cards/njpw-cards-pg139-no-27.html\n",
            "Getting matches from http://www.profightdb.com/cards/njpw-cards-pg140-no-27.html\n",
            "Getting matches from http://www.profightdb.com/cards/njpw-cards-pg141-no-27.html\n",
            "Getting matches from http://www.profightdb.com/cards/njpw-cards-pg142-no-27.html\n",
            "Getting matches from http://www.profightdb.com/cards/njpw-cards-pg143-no-27.html\n",
            "Getting matches from http://www.profightdb.com/cards/njpw-cards-pg144-no-27.html\n",
            "Getting matches from http://www.profightdb.com/cards/njpw-cards-pg145-no-27.html\n",
            "Getting matches from http://www.profightdb.com/cards/njpw-cards-pg146-no-27.html\n",
            "Getting matches from http://www.profightdb.com/cards/njpw-cards-pg147-no-27.html\n",
            "Getting matches from http://www.profightdb.com/cards/njpw-cards-pg148-no-27.html\n",
            "Getting matches from http://www.profightdb.com/cards/njpw-cards-pg149-no-27.html\n",
            "Getting matches from http://www.profightdb.com/cards/njpw-cards-pg150-no-27.html\n",
            "Getting matches from http://www.profightdb.com/cards/njpw-cards-pg151-no-27.html\n",
            "Getting matches from http://www.profightdb.com/cards/njpw-cards-pg152-no-27.html\n",
            "Getting matches from http://www.profightdb.com/cards/njpw-cards-pg153-no-27.html\n",
            "Getting matches from http://www.profightdb.com/cards/njpw-cards-pg154-no-27.html\n",
            "Getting matches from http://www.profightdb.com/cards/njpw-cards-pg155-no-27.html\n",
            "Getting matches from http://www.profightdb.com/cards/njpw-cards-pg156-no-27.html\n",
            "Getting matches from http://www.profightdb.com/cards/njpw-cards-pg157-no-27.html\n",
            "Getting matches from http://www.profightdb.com/cards/njpw-cards-pg158-no-27.html\n",
            "Getting matches from http://www.profightdb.com/cards/njpw-cards-pg159-no-27.html\n",
            "Getting matches from http://www.profightdb.com/cards/njpw-cards-pg160-no-27.html\n",
            "Getting matches from http://www.profightdb.com/cards/njpw-cards-pg161-no-27.html\n",
            "Getting matches from http://www.profightdb.com/cards/njpw-cards-pg162-no-27.html\n",
            "Getting matches from http://www.profightdb.com/cards/njpw-cards-pg163-no-27.html\n",
            "Getting matches from http://www.profightdb.com/cards/njpw-cards-pg164-no-27.html\n",
            "Getting matches from http://www.profightdb.com/cards/njpw-cards-pg165-no-27.html\n",
            "Getting matches from http://www.profightdb.com/cards/njpw-cards-pg166-no-27.html\n",
            "Getting matches from http://www.profightdb.com/cards/njpw-cards-pg167-no-27.html\n",
            "Getting matches from http://www.profightdb.com/cards/njpw-cards-pg168-no-27.html\n",
            "Getting matches from http://www.profightdb.com/cards/njpw-cards-pg169-no-27.html\n",
            "Getting matches from http://www.profightdb.com/cards/njpw-cards-pg170-no-27.html\n",
            "Getting matches from http://www.profightdb.com/cards/njpw-cards-pg171-no-27.html\n",
            "Getting matches from http://www.profightdb.com/cards/njpw-cards-pg172-no-27.html\n",
            "Getting matches from http://www.profightdb.com/cards/njpw-cards-pg173-no-27.html\n",
            "Getting matches from http://www.profightdb.com/cards/njpw-cards-pg174-no-27.html\n",
            "Getting matches from http://www.profightdb.com/cards/njpw-cards-pg175-no-27.html\n",
            "Getting matches from http://www.profightdb.com/cards/njpw-cards-pg176-no-27.html\n",
            "Getting matches from http://www.profightdb.com/cards/njpw-cards-pg177-no-27.html\n",
            "Getting matches from http://www.profightdb.com/cards/njpw-cards-pg178-no-27.html\n",
            "Getting matches from http://www.profightdb.com/cards/njpw-cards-pg179-no-27.html\n",
            "Getting matches from http://www.profightdb.com/cards/njpw-cards-pg180-no-27.html\n",
            "Getting matches from http://www.profightdb.com/cards/njpw-cards-pg181-no-27.html\n",
            "Getting matches from http://www.profightdb.com/cards/njpw-cards-pg182-no-27.html\n",
            "Getting matches from http://www.profightdb.com/cards/njpw-cards-pg183-no-27.html\n",
            "Getting matches from http://www.profightdb.com/cards/njpw-cards-pg184-no-27.html\n",
            "Getting matches from http://www.profightdb.com/cards/njpw-cards-pg185-no-27.html\n",
            "Getting matches from http://www.profightdb.com/cards/njpw-cards-pg186-no-27.html\n",
            "Getting matches from http://www.profightdb.com/cards/njpw-cards-pg187-no-27.html\n",
            "Getting matches from http://www.profightdb.com/cards/njpw-cards-pg188-no-27.html\n",
            "Getting matches from http://www.profightdb.com/cards/njpw-cards-pg189-no-27.html\n",
            "Getting matches from http://www.profightdb.com/cards/njpw-cards-pg190-no-27.html\n",
            "Getting matches from http://www.profightdb.com/cards/njpw-cards-pg191-no-27.html\n",
            "Getting matches from http://www.profightdb.com/cards/njpw-cards-pg192-no-27.html\n",
            "Getting matches from http://www.profightdb.com/cards/njpw-cards-pg193-no-27.html\n",
            "Getting matches from http://www.profightdb.com/cards/njpw-cards-pg194-no-27.html\n",
            "Getting matches from http://www.profightdb.com/cards/njpw-cards-pg195-no-27.html\n",
            "Getting matches from http://www.profightdb.com/cards/njpw-cards-pg196-no-27.html\n",
            "Getting matches from http://www.profightdb.com/cards/njpw-cards-pg197-no-27.html\n",
            "Getting matches from http://www.profightdb.com/cards/njpw-cards-pg198-no-27.html\n",
            "Getting matches from http://www.profightdb.com/cards/njpw-cards-pg199-no-27.html\n",
            "Getting matches from http://www.profightdb.com/cards/njpw-cards-pg200-no-27.html\n",
            "Getting matches from http://www.profightdb.com/cards/njpw-cards-pg201-no-27.html\n",
            "Getting matches from http://www.profightdb.com/cards/njpw-cards-pg202-no-27.html\n",
            "Getting matches from http://www.profightdb.com/cards/njpw-cards-pg203-no-27.html\n",
            "Getting matches from http://www.profightdb.com/cards/njpw-cards-pg204-no-27.html\n",
            "Getting matches from http://www.profightdb.com/cards/njpw-cards-pg205-no-27.html\n",
            "Getting matches from http://www.profightdb.com/cards/njpw-cards-pg206-no-27.html\n",
            "Getting matches from http://www.profightdb.com/cards/njpw-cards-pg207-no-27.html\n",
            "Getting matches from http://www.profightdb.com/cards/njpw-cards-pg208-no-27.html\n",
            "Getting matches from http://www.profightdb.com/cards/njpw-cards-pg209-no-27.html\n",
            "Getting matches from http://www.profightdb.com/cards/njpw-cards-pg210-no-27.html\n",
            "Getting matches from http://www.profightdb.com/cards/njpw-cards-pg211-no-27.html\n",
            "Issue with  vs Hirooki Goto from NJPW Best of the Super Juniors XI - Day 16\n",
            "Issue with  vs Katsuhiko Nakajima from NJPW Best of the Super Juniors XI - Day 15\n",
            "Issue with Tiger Mask IV vs  from NJPW Best of the Super Juniors XI - Day 13\n",
            "Getting matches from http://www.profightdb.com/cards/njpw-cards-pg212-no-27.html\n",
            "Issue with  vs Hirooki Goto from NJPW Best of the Super Juniors XI - Day 12\n",
            "Issue with Rocky Romero vs  from NJPW Best of the Super Juniors XI - Day 9\n",
            "Issue with Heat vs  from NJPW Best of the Super Juniors XI - Day 8\n",
            "Issue with Masayuki Naruse vs  from NJPW Best of the Super Juniors XI - Day 6\n",
            "Issue with Curry Man vs  from NJPW Best of the Super Juniors XI - Day 4\n",
            "Getting matches from http://www.profightdb.com/cards/njpw-cards-pg213-no-27.html\n",
            "Issue with  vs Hirooki Goto from NJPW Best of the Super Juniors XI - Day 1\n",
            "Issue with El Samurai vs  from NJPW Toukon Saizensen\n",
            "Getting matches from http://www.profightdb.com/cards/njpw-cards-pg214-no-27.html\n",
            "Getting matches from http://www.profightdb.com/cards/njpw-cards-pg215-no-27.html\n",
            "Getting matches from http://www.profightdb.com/cards/njpw-cards-pg216-no-27.html\n",
            "Getting matches from http://www.profightdb.com/cards/njpw-cards-pg217-no-27.html\n",
            "Getting matches from http://www.profightdb.com/cards/njpw-cards-pg218-no-27.html\n",
            "Getting matches from http://www.profightdb.com/cards/njpw-cards-pg219-no-27.html\n",
            "Getting matches from http://www.profightdb.com/cards/njpw-cards-pg220-no-27.html\n",
            "Getting matches from http://www.profightdb.com/cards/njpw-cards-pg221-no-27.html\n",
            "Getting matches from http://www.profightdb.com/cards/njpw-cards-pg222-no-27.html\n",
            "Getting matches from http://www.profightdb.com/cards/njpw-cards-pg223-no-27.html\n",
            "Getting matches from http://www.profightdb.com/cards/njpw-cards-pg224-no-27.html\n",
            "Getting matches from http://www.profightdb.com/cards/njpw-cards-pg225-no-27.html\n",
            "Getting matches from http://www.profightdb.com/cards/njpw-cards-pg226-no-27.html\n",
            "Getting matches from http://www.profightdb.com/cards/njpw-cards-pg227-no-27.html\n",
            "Getting matches from http://www.profightdb.com/cards/njpw-cards-pg228-no-27.html\n",
            "Getting matches from http://www.profightdb.com/cards/njpw-cards-pg229-no-27.html\n",
            "Getting matches from http://www.profightdb.com/cards/njpw-cards-pg230-no-27.html\n",
            "Getting matches from http://www.profightdb.com/cards/njpw-cards-pg231-no-27.html\n",
            "Getting matches from http://www.profightdb.com/cards/njpw-cards-pg232-no-27.html\n",
            "Getting matches from http://www.profightdb.com/cards/njpw-cards-pg233-no-27.html\n",
            "Getting matches from http://www.profightdb.com/cards/njpw-cards-pg234-no-27.html\n",
            "Getting matches from http://www.profightdb.com/cards/njpw-cards-pg235-no-27.html\n",
            "Getting matches from http://www.profightdb.com/cards/njpw-cards-pg236-no-27.html\n",
            "Getting matches from http://www.profightdb.com/cards/njpw-cards-pg237-no-27.html\n",
            "Getting matches from http://www.profightdb.com/cards/njpw-cards-pg238-no-27.html\n",
            "Getting matches from http://www.profightdb.com/cards/njpw-cards-pg239-no-27.html\n",
            "Getting matches from http://www.profightdb.com/cards/njpw-cards-pg240-no-27.html\n",
            "Getting matches from http://www.profightdb.com/cards/njpw-cards-pg241-no-27.html\n",
            "Getting matches from http://www.profightdb.com/cards/njpw-cards-pg242-no-27.html\n",
            "Getting matches from http://www.profightdb.com/cards/njpw-cards-pg243-no-27.html\n",
            "Getting matches from http://www.profightdb.com/cards/njpw-cards-pg244-no-27.html\n",
            "Getting matches from http://www.profightdb.com/cards/njpw-cards-pg245-no-27.html\n",
            "Getting matches from http://www.profightdb.com/cards/njpw-cards-pg246-no-27.html\n",
            "Getting matches from http://www.profightdb.com/cards/njpw-cards-pg247-no-27.html\n",
            "Getting matches from http://www.profightdb.com/cards/njpw-cards-pg248-no-27.html\n",
            "Getting matches from http://www.profightdb.com/cards/njpw-cards-pg249-no-27.html\n",
            "Getting matches from http://www.profightdb.com/cards/njpw-cards-pg250-no-27.html\n",
            "Getting matches from http://www.profightdb.com/cards/njpw-cards-pg251-no-27.html\n",
            "Getting matches from http://www.profightdb.com/cards/njpw-cards-pg252-no-27.html\n",
            "Getting matches from http://www.profightdb.com/cards/njpw-cards-pg253-no-27.html\n",
            "Getting matches from http://www.profightdb.com/cards/njpw-cards-pg254-no-27.html\n",
            "Getting matches from http://www.profightdb.com/cards/njpw-cards-pg255-no-27.html\n",
            "Getting matches from http://www.profightdb.com/cards/njpw-cards-pg256-no-27.html\n",
            "Getting matches from http://www.profightdb.com/cards/njpw-cards-pg257-no-27.html\n",
            "Getting matches from http://www.profightdb.com/cards/njpw-cards-pg258-no-27.html\n",
            "Getting matches from http://www.profightdb.com/cards/njpw-cards-pg259-no-27.html\n",
            "Getting matches from http://www.profightdb.com/cards/njpw-cards-pg260-no-27.html\n",
            "Getting matches from http://www.profightdb.com/cards/njpw-cards-pg261-no-27.html\n",
            "Getting matches from http://www.profightdb.com/cards/njpw-cards-pg262-no-27.html\n",
            "Getting matches from http://www.profightdb.com/cards/njpw-cards-pg263-no-27.html\n",
            "Getting matches from http://www.profightdb.com/cards/njpw-cards-pg264-no-27.html\n",
            "Getting matches from http://www.profightdb.com/cards/njpw-cards-pg265-no-27.html\n",
            "Getting matches from http://www.profightdb.com/cards/njpw-cards-pg266-no-27.html\n",
            "Getting matches from http://www.profightdb.com/cards/njpw-cards-pg267-no-27.html\n",
            "Getting matches from http://www.profightdb.com/cards/njpw-cards-pg268-no-27.html\n",
            "Getting matches from http://www.profightdb.com/cards/njpw-cards-pg269-no-27.html\n",
            "Getting matches from http://www.profightdb.com/cards/njpw-cards-pg270-no-27.html\n",
            "Getting matches from http://www.profightdb.com/cards/njpw-cards-pg271-no-27.html\n",
            "Getting matches from http://www.profightdb.com/cards/njpw-cards-pg272-no-27.html\n",
            "Getting matches from http://www.profightdb.com/cards/njpw-cards-pg273-no-27.html\n",
            "Getting matches from http://www.profightdb.com/cards/njpw-cards-pg274-no-27.html\n",
            "Getting matches from http://www.profightdb.com/cards/njpw-cards-pg275-no-27.html\n",
            "Getting matches from http://www.profightdb.com/cards/njpw-cards-pg276-no-27.html\n",
            "Getting matches from http://www.profightdb.com/cards/njpw-cards-pg277-no-27.html\n",
            "Getting matches from http://www.profightdb.com/cards/njpw-cards-pg278-no-27.html\n",
            "Getting matches from http://www.profightdb.com/cards/njpw-cards-pg279-no-27.html\n",
            "Getting matches from http://www.profightdb.com/cards/njpw-cards-pg280-no-27.html\n",
            "Getting matches from http://www.profightdb.com/cards/njpw-cards-pg281-no-27.html\n",
            "Getting matches from http://www.profightdb.com/cards/njpw-cards-pg282-no-27.html\n",
            "Getting matches from http://www.profightdb.com/cards/njpw-cards-pg283-no-27.html\n",
            "Getting matches from http://www.profightdb.com/cards/njpw-cards-pg284-no-27.html\n",
            "Getting matches from http://www.profightdb.com/cards/njpw-cards-pg285-no-27.html\n",
            "Getting matches from http://www.profightdb.com/cards/njpw-cards-pg286-no-27.html\n",
            "Getting matches from http://www.profightdb.com/cards/njpw-cards-pg287-no-27.html\n",
            "Getting matches from http://www.profightdb.com/cards/njpw-cards-pg288-no-27.html\n",
            "Getting matches from http://www.profightdb.com/cards/njpw-cards-pg289-no-27.html\n",
            "Getting matches from http://www.profightdb.com/cards/njpw-cards-pg290-no-27.html\n",
            "Getting matches from http://www.profightdb.com/cards/njpw-cards-pg291-no-27.html\n",
            "Getting matches from http://www.profightdb.com/cards/njpw-cards-pg292-no-27.html\n",
            "Getting matches from http://www.profightdb.com/cards/njpw-cards-pg293-no-27.html\n",
            "Getting matches from http://www.profightdb.com/cards/njpw-cards-pg294-no-27.html\n",
            "Getting matches from http://www.profightdb.com/cards/njpw-cards-pg295-no-27.html\n",
            "Getting matches from http://www.profightdb.com/cards/njpw-cards-pg296-no-27.html\n",
            "Getting matches from http://www.profightdb.com/cards/njpw-cards-pg297-no-27.html\n",
            "Getting matches from http://www.profightdb.com/cards/njpw-cards-pg298-no-27.html\n",
            "Getting matches from http://www.profightdb.com/cards/njpw-cards-pg299-no-27.html\n",
            "Getting matches from http://www.profightdb.com/cards/njpw-cards-pg300-no-27.html\n",
            "Getting matches from http://www.profightdb.com/cards/njpw-cards-pg301-no-27.html\n",
            "Getting matches from http://www.profightdb.com/cards/njpw-cards-pg302-no-27.html\n",
            "Getting matches from http://www.profightdb.com/cards/njpw-cards-pg303-no-27.html\n",
            "Getting matches from http://www.profightdb.com/cards/njpw-cards-pg304-no-27.html\n",
            "Getting matches from http://www.profightdb.com/cards/njpw-cards-pg305-no-27.html\n",
            "Getting matches from http://www.profightdb.com/cards/njpw-cards-pg306-no-27.html\n",
            "Getting matches from http://www.profightdb.com/cards/njpw-cards-pg307-no-27.html\n",
            "Getting matches from http://www.profightdb.com/cards/njpw-cards-pg308-no-27.html\n",
            "Getting matches from http://www.profightdb.com/cards/njpw-cards-pg309-no-27.html\n",
            "Getting matches from http://www.profightdb.com/cards/njpw-cards-pg310-no-27.html\n",
            "Getting matches from http://www.profightdb.com/cards/njpw-cards-pg311-no-27.html\n",
            "Getting matches from http://www.profightdb.com/cards/njpw-cards-pg312-no-27.html\n",
            "Getting matches from http://www.profightdb.com/cards/njpw-cards-pg313-no-27.html\n",
            "Getting matches from http://www.profightdb.com/cards/njpw-cards-pg314-no-27.html\n",
            "Getting matches from http://www.profightdb.com/cards/njpw-cards-pg315-no-27.html\n",
            "Getting matches from http://www.profightdb.com/cards/njpw-cards-pg316-no-27.html\n",
            "Getting matches from http://www.profightdb.com/cards/njpw-cards-pg317-no-27.html\n",
            "Getting matches from http://www.profightdb.com/cards/njpw-cards-pg318-no-27.html\n",
            "Getting matches from http://www.profightdb.com/cards/njpw-cards-pg319-no-27.html\n",
            "Getting matches from http://www.profightdb.com/cards/njpw-cards-pg320-no-27.html\n",
            "Getting matches from http://www.profightdb.com/cards/njpw-cards-pg321-no-27.html\n",
            "Getting matches from http://www.profightdb.com/cards/njpw-cards-pg322-no-27.html\n",
            "Getting matches from http://www.profightdb.com/cards/njpw-cards-pg323-no-27.html\n",
            "Getting matches from http://www.profightdb.com/cards/njpw-cards-pg324-no-27.html\n",
            "Getting matches from http://www.profightdb.com/cards/njpw-cards-pg325-no-27.html\n",
            "Getting matches from http://www.profightdb.com/cards/njpw-cards-pg326-no-27.html\n",
            "Getting matches from http://www.profightdb.com/cards/njpw-cards-pg327-no-27.html\n",
            "Getting matches from http://www.profightdb.com/cards/njpw-cards-pg328-no-27.html\n",
            "Getting matches from http://www.profightdb.com/cards/njpw-cards-pg329-no-27.html\n",
            "Getting matches from http://www.profightdb.com/cards/njpw-cards-pg330-no-27.html\n",
            "Getting matches from http://www.profightdb.com/cards/njpw-cards-pg331-no-27.html\n",
            "Getting matches from http://www.profightdb.com/cards/njpw-cards-pg332-no-27.html\n",
            "Getting matches from http://www.profightdb.com/cards/njpw-cards-pg333-no-27.html\n",
            "Getting matches from http://www.profightdb.com/cards/njpw-cards-pg334-no-27.html\n",
            "Getting matches from http://www.profightdb.com/cards/njpw-cards-pg335-no-27.html\n",
            "Getting matches from http://www.profightdb.com/cards/njpw-cards-pg336-no-27.html\n",
            "Getting matches from http://www.profightdb.com/cards/njpw-cards-pg337-no-27.html\n",
            "Getting matches from http://www.profightdb.com/cards/njpw-cards-pg338-no-27.html\n",
            "Getting matches from http://www.profightdb.com/cards/njpw-cards-pg339-no-27.html\n",
            "Getting matches from http://www.profightdb.com/cards/njpw-cards-pg340-no-27.html\n",
            "Getting matches from http://www.profightdb.com/cards/njpw-cards-pg341-no-27.html\n",
            "Getting matches from http://www.profightdb.com/cards/njpw-cards-pg342-no-27.html\n",
            "Getting matches from http://www.profightdb.com/cards/njpw-cards-pg343-no-27.html\n",
            "Getting matches from http://www.profightdb.com/cards/njpw-cards-pg344-no-27.html\n",
            "Getting matches from http://www.profightdb.com/cards/njpw-cards-pg345-no-27.html\n",
            "Getting matches from http://www.profightdb.com/cards/njpw-cards-pg346-no-27.html\n",
            "Getting matches from http://www.profightdb.com/cards/njpw-cards-pg347-no-27.html\n",
            "Getting matches from http://www.profightdb.com/cards/njpw-cards-pg348-no-27.html\n",
            "Getting matches from http://www.profightdb.com/cards/njpw-cards-pg349-no-27.html\n"
          ],
          "name": "stdout"
        }
      ]
    },
    {
      "cell_type": "code",
      "metadata": {
        "colab": {
          "base_uri": "https://localhost:8080/"
        },
        "id": "lp5WMv_dXZWF",
        "outputId": "42eb737d-9d81-48f1-9018-53da97016876"
      },
      "source": [
        "all_matches.head()"
      ],
      "execution_count": null,
      "outputs": [
        {
          "output_type": "execute_result",
          "data": {
            "text/html": [
              "<div>\n",
              "<style scoped>\n",
              "    .dataframe tbody tr th:only-of-type {\n",
              "        vertical-align: middle;\n",
              "    }\n",
              "\n",
              "    .dataframe tbody tr th {\n",
              "        vertical-align: top;\n",
              "    }\n",
              "\n",
              "    .dataframe thead th {\n",
              "        text-align: right;\n",
              "    }\n",
              "</style>\n",
              "<table border=\"1\" class=\"dataframe\">\n",
              "  <thead>\n",
              "    <tr style=\"text-align: right;\">\n",
              "      <th></th>\n",
              "      <th>Date</th>\n",
              "      <th>Event</th>\n",
              "      <th>Venue</th>\n",
              "      <th>Attendance</th>\n",
              "      <th>Card Ranking</th>\n",
              "      <th>Match Time</th>\n",
              "      <th>Person 1 Champion</th>\n",
              "      <th>Person 1 ID</th>\n",
              "      <th>Person 1 Name</th>\n",
              "      <th>Person 2 Champion</th>\n",
              "      <th>Person 2 ID</th>\n",
              "      <th>Person 2 Name</th>\n",
              "      <th>Result Descriptor</th>\n",
              "      <th>Stipulation</th>\n",
              "      <th>Title</th>\n",
              "      <th>WON Rating</th>\n",
              "    </tr>\n",
              "  </thead>\n",
              "  <tbody>\n",
              "    <tr>\n",
              "      <th>0</th>\n",
              "      <td>2020-12-23</td>\n",
              "      <td>NJPW Road to Tokyo Dome 2021 - Day 7</td>\n",
              "      <td>Korakuen Hall, Tokyo, Tokyo</td>\n",
              "      <td>696</td>\n",
              "      <td>4.0</td>\n",
              "      <td>06:11</td>\n",
              "      <td>1.0</td>\n",
              "      <td>/wrestlers/toru-yano-2888.html</td>\n",
              "      <td>Toru Yano</td>\n",
              "      <td>0.0</td>\n",
              "      <td>/wrestlers/bad-luck-fale-6169.html</td>\n",
              "      <td>Bad Luck Fale</td>\n",
              "      <td>def.</td>\n",
              "      <td>Bodyslam Or Last Cornerpad Match</td>\n",
              "      <td>NJPW King Of Pro-Wrestling Title</td>\n",
              "      <td>None</td>\n",
              "    </tr>\n",
              "    <tr>\n",
              "      <th>0</th>\n",
              "      <td>2020-12-18</td>\n",
              "      <td>NJPW STRONG #20 - Detonation (airdate)</td>\n",
              "      <td>Oceanview Pavilion, Port Hueneme, California</td>\n",
              "      <td>unknown</td>\n",
              "      <td>4.0</td>\n",
              "      <td></td>\n",
              "      <td>0.0</td>\n",
              "      <td>/wrestlers/rocky-romero-924.html</td>\n",
              "      <td>Rocky Romero</td>\n",
              "      <td>0.0</td>\n",
              "      <td>/wrestlers/danny-limelight-13988.html</td>\n",
              "      <td>Danny Limelight</td>\n",
              "      <td>def.</td>\n",
              "      <td></td>\n",
              "      <td></td>\n",
              "      <td>None</td>\n",
              "    </tr>\n",
              "    <tr>\n",
              "      <th>1</th>\n",
              "      <td>2020-12-18</td>\n",
              "      <td>NJPW STRONG #20 - Detonation (airdate)</td>\n",
              "      <td>Oceanview Pavilion, Port Hueneme, California</td>\n",
              "      <td>unknown</td>\n",
              "      <td>3.0</td>\n",
              "      <td>08:07</td>\n",
              "      <td>0.0</td>\n",
              "      <td>/wrestlers/jeff-cobb-9665.html</td>\n",
              "      <td>Jeff Cobb</td>\n",
              "      <td>0.0</td>\n",
              "      <td>/wrestlers/ryan-taylor-3883.html</td>\n",
              "      <td>Rust Taylor</td>\n",
              "      <td>def. (pin)</td>\n",
              "      <td></td>\n",
              "      <td></td>\n",
              "      <td>None</td>\n",
              "    </tr>\n",
              "    <tr>\n",
              "      <th>2</th>\n",
              "      <td>2020-12-18</td>\n",
              "      <td>NJPW STRONG #20 - Detonation (airdate)</td>\n",
              "      <td>Oceanview Pavilion, Port Hueneme, California</td>\n",
              "      <td>unknown</td>\n",
              "      <td>1.0</td>\n",
              "      <td>14:16</td>\n",
              "      <td>0.0</td>\n",
              "      <td>/wrestlers/kenta-1895.html</td>\n",
              "      <td>KENTA</td>\n",
              "      <td>0.0</td>\n",
              "      <td>/wrestlers/brody-king-13562.html</td>\n",
              "      <td>Brody King</td>\n",
              "      <td>def. (pin)</td>\n",
              "      <td></td>\n",
              "      <td></td>\n",
              "      <td>None</td>\n",
              "    </tr>\n",
              "    <tr>\n",
              "      <th>0</th>\n",
              "      <td>2020-12-12</td>\n",
              "      <td>NJPW Super J-Cup 2020 (airdate)</td>\n",
              "      <td>Oceanview Pavilion, Port Hueneme, California</td>\n",
              "      <td>unknown</td>\n",
              "      <td>9.0</td>\n",
              "      <td>09:36</td>\n",
              "      <td>0.0</td>\n",
              "      <td>/wrestlers/chris-bey-13995.html</td>\n",
              "      <td>Chris Bey</td>\n",
              "      <td>0.0</td>\n",
              "      <td>/wrestlers/clark-connors-14531.html</td>\n",
              "      <td>Clark Connors</td>\n",
              "      <td>def.</td>\n",
              "      <td></td>\n",
              "      <td></td>\n",
              "      <td>None</td>\n",
              "    </tr>\n",
              "  </tbody>\n",
              "</table>\n",
              "</div>"
            ],
            "text/plain": [
              "        Date  ... WON Rating\n",
              "0 2020-12-23  ...       None\n",
              "0 2020-12-18  ...       None\n",
              "1 2020-12-18  ...       None\n",
              "2 2020-12-18  ...       None\n",
              "0 2020-12-12  ...       None\n",
              "\n",
              "[5 rows x 16 columns]"
            ]
          },
          "metadata": {
            "tags": []
          },
          "execution_count": 9
        }
      ]
    },
    {
      "cell_type": "markdown",
      "metadata": {
        "id": "E46BfMDPzz0X"
      },
      "source": [
        "# Exploratory Data Analysis and Data Cleaning"
      ]
    },
    {
      "cell_type": "markdown",
      "metadata": {
        "id": "ZLTPWBEWXeVA"
      },
      "source": [
        "Card Rankings"
      ]
    },
    {
      "cell_type": "code",
      "metadata": {
        "id": "gttpDQSU0Bj0",
        "colab": {
          "base_uri": "https://localhost:8080/"
        },
        "outputId": "167f366d-36f4-48d4-c8d4-fd14d9932f88"
      },
      "source": [
        "all_matches['Card Ranking'].value_counts()"
      ],
      "execution_count": null,
      "outputs": [
        {
          "output_type": "execute_result",
          "data": {
            "text/plain": [
              "6.0     1406\n",
              "7.0     1406\n",
              "5.0     1150\n",
              "4.0     1078\n",
              "3.0     1059\n",
              "2.0     1041\n",
              "1.0     1037\n",
              "8.0     1001\n",
              "9.0      435\n",
              "10.0     127\n",
              "11.0      38\n",
              "13.0      11\n",
              "12.0      10\n",
              "14.0       8\n",
              "15.0       2\n",
              "16.0       1\n",
              "Name: Card Ranking, dtype: int64"
            ]
          },
          "metadata": {
            "tags": []
          },
          "execution_count": 10
        }
      ]
    },
    {
      "cell_type": "markdown",
      "metadata": {
        "id": "76blT5spXiUh"
      },
      "source": [
        "Match times"
      ]
    },
    {
      "cell_type": "code",
      "metadata": {
        "id": "UUHiO8_X5aTW",
        "colab": {
          "base_uri": "https://localhost:8080/"
        },
        "outputId": "e27d9a30-8db5-48a1-cd3f-82905f2cfff3"
      },
      "source": [
        "all_matches['Match Time'].value_counts()"
      ],
      "execution_count": null,
      "outputs": [
        {
          "output_type": "execute_result",
          "data": {
            "text/plain": [
              "         1277\n",
              "10:00      97\n",
              "15:00      45\n",
              "20:00      29\n",
              "30:00      29\n",
              "         ... \n",
              "23:02       1\n",
              "20:49       1\n",
              "21:15       1\n",
              "00:50       1\n",
              "19:06       1\n",
              "Name: Match Time, Length: 1479, dtype: int64"
            ]
          },
          "metadata": {
            "tags": []
          },
          "execution_count": 11
        }
      ]
    },
    {
      "cell_type": "markdown",
      "metadata": {
        "id": "Kq3TGpVgn3OP"
      },
      "source": [
        "Check match times in seconds and generate histogram..."
      ]
    },
    {
      "cell_type": "code",
      "metadata": {
        "id": "cHAP9PcH0OCA"
      },
      "source": [
        "def calculate_seconds(raw_time):\n",
        "  a = raw_time.split(':')\n",
        "  if len(a) == 2:\n",
        "    return int(a[0])*60 + int(a[1])\n",
        "  if len(a) == 3:\n",
        "    return int(a[0])*3600 + int(a[1])*60 + int(a[2])"
      ],
      "execution_count": null,
      "outputs": []
    },
    {
      "cell_type": "code",
      "metadata": {
        "id": "SB7aH0z12bn1"
      },
      "source": [
        "times = [calculate_seconds(time) for time in all_matches['Match Time'] if ':' in time]"
      ],
      "execution_count": null,
      "outputs": []
    },
    {
      "cell_type": "code",
      "metadata": {
        "id": "Kzb-qxyk2h2N",
        "colab": {
          "base_uri": "https://localhost:8080/",
          "height": 631
        },
        "outputId": "46c2252b-6d31-4016-b09e-48d6930df796"
      },
      "source": [
        "plt.hist(times,bins=50)"
      ],
      "execution_count": null,
      "outputs": [
        {
          "output_type": "execute_result",
          "data": {
            "text/plain": [
              "(array([1.270e+02, 3.980e+02, 1.585e+03, 2.406e+03, 1.631e+03, 9.080e+02,\n",
              "        5.400e+02, 3.600e+02, 1.940e+02, 1.260e+02, 8.900e+01, 7.600e+01,\n",
              "        4.000e+01, 2.700e+01, 8.000e+00, 6.000e+00, 1.000e+00, 0.000e+00,\n",
              "        1.000e+00, 0.000e+00, 0.000e+00, 0.000e+00, 0.000e+00, 8.000e+00,\n",
              "        0.000e+00, 1.000e+00, 0.000e+00, 0.000e+00, 0.000e+00, 0.000e+00,\n",
              "        0.000e+00, 0.000e+00, 0.000e+00, 0.000e+00, 0.000e+00, 0.000e+00,\n",
              "        0.000e+00, 0.000e+00, 0.000e+00, 0.000e+00, 0.000e+00, 0.000e+00,\n",
              "        0.000e+00, 0.000e+00, 0.000e+00, 0.000e+00, 0.000e+00, 0.000e+00,\n",
              "        0.000e+00, 1.000e+00]),\n",
              " array([1.00000e+00, 1.51820e+02, 3.02640e+02, 4.53460e+02, 6.04280e+02,\n",
              "        7.55100e+02, 9.05920e+02, 1.05674e+03, 1.20756e+03, 1.35838e+03,\n",
              "        1.50920e+03, 1.66002e+03, 1.81084e+03, 1.96166e+03, 2.11248e+03,\n",
              "        2.26330e+03, 2.41412e+03, 2.56494e+03, 2.71576e+03, 2.86658e+03,\n",
              "        3.01740e+03, 3.16822e+03, 3.31904e+03, 3.46986e+03, 3.62068e+03,\n",
              "        3.77150e+03, 3.92232e+03, 4.07314e+03, 4.22396e+03, 4.37478e+03,\n",
              "        4.52560e+03, 4.67642e+03, 4.82724e+03, 4.97806e+03, 5.12888e+03,\n",
              "        5.27970e+03, 5.43052e+03, 5.58134e+03, 5.73216e+03, 5.88298e+03,\n",
              "        6.03380e+03, 6.18462e+03, 6.33544e+03, 6.48626e+03, 6.63708e+03,\n",
              "        6.78790e+03, 6.93872e+03, 7.08954e+03, 7.24036e+03, 7.39118e+03,\n",
              "        7.54200e+03]),\n",
              " <a list of 50 Patch objects>)"
            ]
          },
          "metadata": {
            "tags": []
          },
          "execution_count": 14
        },
        {
          "output_type": "display_data",
          "data": {
            "image/png": "[encoded data removed]",
            "text/plain": [
              "<Figure size 432x288 with 1 Axes>"
            ]
          },
          "metadata": {
            "tags": [],
            "needs_background": "light"
          }
        }
      ]
    },
    {
      "cell_type": "markdown",
      "metadata": {
        "id": "J0GuJ9KqmPM7"
      },
      "source": [
        "Championship: who has a championship in each match?"
      ]
    },
    {
      "cell_type": "code",
      "metadata": {
        "id": "OgUjn9MR5i37",
        "colab": {
          "base_uri": "https://localhost:8080/"
        },
        "outputId": "e42c258c-3cf7-4b22-8973-b92b9809f864"
      },
      "source": [
        "all_matches['Person 1 Champion'].value_counts()"
      ],
      "execution_count": null,
      "outputs": [
        {
          "output_type": "execute_result",
          "data": {
            "text/plain": [
              "0.0    9273\n",
              "1.0     537\n",
              "Name: Person 1 Champion, dtype: int64"
            ]
          },
          "metadata": {
            "tags": []
          },
          "execution_count": 15
        }
      ]
    },
    {
      "cell_type": "code",
      "metadata": {
        "id": "eOSwpw1M5qOD",
        "colab": {
          "base_uri": "https://localhost:8080/"
        },
        "outputId": "8e2d2950-7b98-4088-ff8b-00c3e334c47c"
      },
      "source": [
        "all_matches['Person 2 Champion'].value_counts()"
      ],
      "execution_count": null,
      "outputs": [
        {
          "output_type": "execute_result",
          "data": {
            "text/plain": [
              "0.0    9592\n",
              "1.0     218\n",
              "Name: Person 2 Champion, dtype: int64"
            ]
          },
          "metadata": {
            "tags": []
          },
          "execution_count": 16
        }
      ]
    },
    {
      "cell_type": "markdown",
      "metadata": {
        "id": "MgNZZxc9n_DV"
      },
      "source": [
        "Person 1"
      ]
    },
    {
      "cell_type": "code",
      "metadata": {
        "id": "i1p03Rp85tUq",
        "colab": {
          "base_uri": "https://localhost:8080/"
        },
        "outputId": "efbbe9e5-3dd2-4b51-b85b-c783297f25f4"
      },
      "source": [
        "all_matches['Person 1 Name'].value_counts()"
      ],
      "execution_count": null,
      "outputs": [
        {
          "output_type": "execute_result",
          "data": {
            "text/plain": [
              "Hiroshi Tanahashi      300\n",
              "Yuji Nagata            254\n",
              "Hirooki Goto           215\n",
              "Ryusuke Taguchi        203\n",
              "Manabu Nakanishi       175\n",
              "                      ... \n",
              "Shota Chochyashvili      1\n",
              "Roberto Soto             1\n",
              "Hajime Ohara             1\n",
              "Sterling Riegel          1\n",
              "Mark Coleman             1\n",
              "Name: Person 1 Name, Length: 597, dtype: int64"
            ]
          },
          "metadata": {
            "tags": []
          },
          "execution_count": 17
        }
      ]
    },
    {
      "cell_type": "markdown",
      "metadata": {
        "id": "FidRaPyRoCfa"
      },
      "source": [
        "Person 2"
      ]
    },
    {
      "cell_type": "code",
      "metadata": {
        "id": "hnUOuxGh6HUj",
        "colab": {
          "base_uri": "https://localhost:8080/"
        },
        "outputId": "b479d51a-c57f-42fd-8db2-80368fb5648b"
      },
      "source": [
        "all_matches['Person 2 Name'].value_counts()"
      ],
      "execution_count": null,
      "outputs": [
        {
          "output_type": "execute_result",
          "data": {
            "text/plain": [
              "Toru Yano                                                                                                                                   247\n",
              "Yutaka Yoshie                                                                                                                               214\n",
              "Wataru Inoue                                                                                                                                185\n",
              "Hirooki Goto                                                                                                                                175\n",
              "Naofumi Yamamoto                                                                                                                            174\n",
              "                                                                                                                                           ... \n",
              "Don Arakawa                                                                                                                                   1\n",
              "Black Cat, El Samurai, Hiroshi Tanahashi, Katsuyori Shibata, Kendo Kashin, Koji Kanemoto, Shinya Makabe, Tatsuhito Takaiwa, Wataru Inoue      1\n",
              "Zane Frazier                                                                                                                                  1\n",
              "Shoichi Uchida                                                                                                                                1\n",
              "Kaz Hayashi                                                                                                                                   1\n",
              "Name: Person 2 Name, Length: 793, dtype: int64"
            ]
          },
          "metadata": {
            "tags": []
          },
          "execution_count": 18
        }
      ]
    },
    {
      "cell_type": "markdown",
      "metadata": {
        "id": "MLmy5f6AoFD5"
      },
      "source": [
        "Person 1 ID"
      ]
    },
    {
      "cell_type": "code",
      "metadata": {
        "id": "j9YJjLMm6Zr2",
        "colab": {
          "base_uri": "https://localhost:8080/"
        },
        "outputId": "0f034452-7696-4fcf-972b-37bcb44f65cd"
      },
      "source": [
        "all_matches['Person 1 ID'].value_counts()"
      ],
      "execution_count": null,
      "outputs": [
        {
          "output_type": "execute_result",
          "data": {
            "text/plain": [
              "/wrestlers/hiroshi-tanahashi-920.html    301\n",
              "/wrestlers/yuji-nagata-676.html          256\n",
              "/wrestlers/togi-makabe-3235.html         218\n",
              "/wrestlers/hirooki-goto-926.html         215\n",
              "/wrestlers/ryusuke-taguchi-3252.html     203\n",
              "                                        ... \n",
              "/wrestlers/ricky-fuji-4849.html            1\n",
              "/wrestlers/marco-corleone-388.html         1\n",
              "/wrestlers/dick-togo-265.html              1\n",
              "/wrestlers/mohammed-yone-2997.html         1\n",
              "/wrestlers/scotty-riggs-659.html           1\n",
              "Name: Person 1 ID, Length: 515, dtype: int64"
            ]
          },
          "metadata": {
            "tags": []
          },
          "execution_count": 19
        }
      ]
    },
    {
      "cell_type": "markdown",
      "metadata": {
        "id": "SzhlJQuo4E_I"
      },
      "source": [
        "Person 2 ID"
      ]
    },
    {
      "cell_type": "code",
      "metadata": {
        "id": "vggvAPXY6gcX",
        "colab": {
          "base_uri": "https://localhost:8080/"
        },
        "outputId": "8cfecf2b-807d-4cb9-8d27-a19e5b61ba5c"
      },
      "source": [
        "all_matches['Person 2 ID'].value_counts()"
      ],
      "execution_count": null,
      "outputs": [
        {
          "output_type": "execute_result",
          "data": {
            "text/plain": [
              "/wrestlers/togi-makabe-3235.html         264\n",
              "/wrestlers/toru-yano-2888.html           247\n",
              "/wrestlers/yutaka-yoshie-3000.html       214\n",
              "/wrestlers/wataru-inoue-3084.html        185\n",
              "/wrestlers/yujiro-takahashi-4014.html    183\n",
              "                                        ... \n",
              "/wrestlers/muhammad-ali-4741.html          1\n",
              "/wrestlers/dave-morgan-5888.html           1\n",
              "/wrestlers/mephisto-2880.html              1\n",
              "/wrestlers/shunsuke-sayama-14319.html      1\n",
              "/wrestlers/bruiser-brody-976.html          1\n",
              "Name: Person 2 ID, Length: 655, dtype: int64"
            ]
          },
          "metadata": {
            "tags": []
          },
          "execution_count": 20
        }
      ]
    },
    {
      "cell_type": "markdown",
      "metadata": {
        "id": "j38PE1By4Hmw"
      },
      "source": [
        "Who has the most singles matches?"
      ]
    },
    {
      "cell_type": "code",
      "metadata": {
        "id": "hkR1ZOu57CMy",
        "colab": {
          "base_uri": "https://localhost:8080/"
        },
        "outputId": "e5a10cf4-d6a2-4555-fd53-2d6308d98aa5"
      },
      "source": [
        "(all_matches['Person 1 ID'].value_counts() + all_matches['Person 2 ID'].value_counts()).dropna().sort_values()"
      ],
      "execution_count": null,
      "outputs": [
        {
          "output_type": "execute_result",
          "data": {
            "text/plain": [
              "/wrestlers/don-neilson-4832.html           2.0\n",
              "/wrestlers/paul-orndorff-22.html           2.0\n",
              "/wrestlers/averno-2879.html                2.0\n",
              "/wrestlers/daijiro-matsui-3992.html        2.0\n",
              "/wrestlers/jimmy-snuka-114.html            2.0\n",
              "                                         ...  \n",
              "/wrestlers/hirooki-goto-926.html         391.0\n",
              "/wrestlers/toru-yano-2888.html           412.0\n",
              "/wrestlers/yuji-nagata-676.html          415.0\n",
              "/wrestlers/hiroshi-tanahashi-920.html    474.0\n",
              "/wrestlers/togi-makabe-3235.html         482.0\n",
              "Length: 431, dtype: float64"
            ]
          },
          "metadata": {
            "tags": []
          },
          "execution_count": 21
        }
      ]
    },
    {
      "cell_type": "markdown",
      "metadata": {
        "id": "94CfQXcy4PtZ"
      },
      "source": [
        "Note: there are a handful of matches on profightdb with no wrestler specified. Upon investigating, the missing wrestler is GARUDA in all cases."
      ]
    },
    {
      "cell_type": "code",
      "metadata": {
        "id": "KQ98xsPP6jyo"
      },
      "source": [
        "all_matches.loc[all_matches['Person 1 ID'] == 'unknown', 'Person 1 ID'] = '/wrestlers/garuda-6026.html'\n",
        "all_matches.loc[all_matches['Person 2 ID'] == 'unknown', 'Person 2 ID'] = '/wrestlers/garuda-6026.html'\n",
        "all_matches.loc[all_matches['Person 1 Name'] == '', 'Person 1 Name'] = 'GARUDA'\n",
        "all_matches.loc[all_matches['Person 2 Name'] == '', 'Person 2 Name'] = 'GARUDA'"
      ],
      "execution_count": null,
      "outputs": []
    },
    {
      "cell_type": "markdown",
      "metadata": {
        "id": "Qg2F3tKL69r3"
      },
      "source": [
        "Results"
      ]
    },
    {
      "cell_type": "code",
      "metadata": {
        "id": "qgmNJn_W99lb",
        "colab": {
          "base_uri": "https://localhost:8080/"
        },
        "outputId": "35c96194-7790-4d27-ef46-8f81b4ef2f33"
      },
      "source": [
        "all_matches['Result Descriptor'].value_counts()"
      ],
      "execution_count": null,
      "outputs": [
        {
          "output_type": "execute_result",
          "data": {
            "text/plain": [
              "def.               6229\n",
              "def. (pin)         2354\n",
              "def. (sub)          566\n",
              "def. (DQ)           199\n",
              "draw (time)         187\n",
              "draw (DCO)           75\n",
              "def. (CO)            67\n",
              "def. (KO)            36\n",
              "def. (TKO)           31\n",
              "def. (forfeit)       23\n",
              "draw                 19\n",
              "draw (NC)            13\n",
              "draw (DTKO)           7\n",
              "def.draw (DTKO)       1\n",
              "draw (DDQ)            1\n",
              "def.draw (time)       1\n",
              " (pin)                1\n",
              "Name: Result Descriptor, dtype: int64"
            ]
          },
          "metadata": {
            "tags": []
          },
          "execution_count": 23
        }
      ]
    },
    {
      "cell_type": "markdown",
      "metadata": {
        "id": "S4NTzyw76_kd"
      },
      "source": [
        "Break the result descripters into two types: 'def' and 'draw'"
      ]
    },
    {
      "cell_type": "code",
      "metadata": {
        "id": "ER6-KWVb-OEk"
      },
      "source": [
        "all_matches['Result'] = ['def' if ('def' in result) or ('pin' in result) else 'draw' for result in all_matches['Result Descriptor']]"
      ],
      "execution_count": null,
      "outputs": []
    },
    {
      "cell_type": "code",
      "metadata": {
        "id": "8Qk0TGFJ-OC9",
        "colab": {
          "base_uri": "https://localhost:8080/"
        },
        "outputId": "5fffbc10-c7e1-40af-e8a6-7ec3472755f6"
      },
      "source": [
        "all_matches['Result'].value_counts()"
      ],
      "execution_count": null,
      "outputs": [
        {
          "output_type": "execute_result",
          "data": {
            "text/plain": [
              "def     9508\n",
              "draw     302\n",
              "Name: Result, dtype: int64"
            ]
          },
          "metadata": {
            "tags": []
          },
          "execution_count": 25
        }
      ]
    },
    {
      "cell_type": "markdown",
      "metadata": {
        "id": "RsapZa9d7G3i"
      },
      "source": [
        "Stipulation"
      ]
    },
    {
      "cell_type": "code",
      "metadata": {
        "id": "KSuhsyx0-qOR",
        "colab": {
          "base_uri": "https://localhost:8080/"
        },
        "outputId": "d6e092a9-96e1-4c8d-ef50-194fea363fea"
      },
      "source": [
        "all_matches['Stipulation'].value_counts()"
      ],
      "execution_count": null,
      "outputs": [
        {
          "output_type": "execute_result",
          "data": {
            "text/plain": [
              "                                                                                                                                                                                                                    9646\n",
              "battle royale                                                                                                                                                                                                         17\n",
              "dark                                                                                                                                                                                                                  17\n",
              "Vale Tudo rules                                                                                                                                                                                                       14\n",
              "European catch rules                                                                                                                                                                                                   9\n",
              "                                                                                                                                                                                                                    ... \n",
              "dark Battle Royal                                                                                                                                                                                                      1\n",
              "nail death                                                                                                                                                                                                             1\n",
              "exhibition                                                                                                                                                                                                             1\n",
              "mask vs. title                                                                                                                                                                                                         1\n",
              "lumberjack: El Desperadolumberjack: TAKA Michinokulumberjack: Yoshinobu Kanemarulumberjack: Zack Sabre Jr.lumberjack: Jadolumberjack: Tomohiro Ishiilumberjack: Toru Yanolumberjack: YOSHI-HASHIlumberjack death       1\n",
              "Name: Stipulation, Length: 63, dtype: int64"
            ]
          },
          "metadata": {
            "tags": []
          },
          "execution_count": 26
        }
      ]
    },
    {
      "cell_type": "markdown",
      "metadata": {
        "id": "RxSzceTT7gM2"
      },
      "source": [
        "Titles"
      ]
    },
    {
      "cell_type": "code",
      "metadata": {
        "id": "5y6s2yC4-4Pf",
        "colab": {
          "base_uri": "https://localhost:8080/"
        },
        "outputId": "5d3bea29-fe58-4654-d355-1a5170b9b465"
      },
      "source": [
        "list(all_matches['Title'].value_counts().keys())"
      ],
      "execution_count": null,
      "outputs": [
        {
          "output_type": "execute_result",
          "data": {
            "text/plain": [
              "['',\n",
              " 'IWGP World Heavyweight Championship',\n",
              " 'IWGP Junior Heavyweight Title',\n",
              " 'NEVER Openweight Championship',\n",
              " 'IWGP Intercontinental Championship',\n",
              " 'IWGP United States Heavyweight Championship',\n",
              " 'NWF Heavyweight Championship',\n",
              " 'NWA Junior Heavyweight Title',\n",
              " 'IWGP U-30 Championship',\n",
              " 'WWF Junior Heavyweight Title',\n",
              " 'NWA World Heavyweight Title',\n",
              " 'WWF World Heavyweight Title',\n",
              " 'J-Crown Championship',\n",
              " 'RevPro British Heavyweight Title',\n",
              " 'IWGP Intercontinental ChampionshipIWGP World Heavyweight Championship',\n",
              " 'CMLL Welterweight Title',\n",
              " 'GHC Junior Heavyweight Title',\n",
              " 'IWGP Junior Heavyweight TitleNWA Junior Heavyweight Title',\n",
              " 'WEW Heavyweight Title',\n",
              " 'ROH World Heavyweight Title',\n",
              " 'NJPW King Of Pro-Wrestling Title',\n",
              " 'New Japan Cup',\n",
              " 'GHC Heavyweight Title',\n",
              " 'UWA Junior Heavyweight Title',\n",
              " 'AJPW Triple Crown Title',\n",
              " 'Zero1 World Heavyweight Championship',\n",
              " 'RevPro British Cruiserweight Title',\n",
              " 'CMLL Middleweight Title',\n",
              " 'NWF Heavyweight ChampionshipWWF World Heavyweight Title',\n",
              " 'UWA Welterweight Championship',\n",
              " 'ROH World Television Title',\n",
              " 'UWA World Lightheavyweight Title',\n",
              " 'WWWF World Heavyweight Title',\n",
              " 'NWA International Title',\n",
              " 'WCW World Heavyweight Title',\n",
              " 'WWWF Junior Heavyweight Title',\n",
              " 'IWGP World Heavyweight ChampionshipNWF Heavyweight Championship',\n",
              " 'NWA Junior Heavyweight TitleWWF Junior Heavyweight Title',\n",
              " 'NJPW Real World Title',\n",
              " 'WCW Cruiserweight Championship',\n",
              " 'NWA Welterweight TitleUWA Junior Heavyweight Title',\n",
              " 'IWGP Third Belt Title',\n",
              " 'WWA World Lightheavyweight Title',\n",
              " 'IWA World Heavyweight Title',\n",
              " 'British Junior Heavyweight TitleWAR International Junior Heavyweight Title',\n",
              " 'WWF Martial Arts Title',\n",
              " 'UWA Heavyweight Title',\n",
              " 'IWGP Third Belt TitleIWGP World Heavyweight Championship',\n",
              " 'WKA Cruiserweight Title',\n",
              " 'AWGC Junior Heavyweight Title',\n",
              " 'NWA World Historic Middleweight Championship',\n",
              " 'King of Pancrase Openweight Title',\n",
              " 'IWGP Martial Arts Title',\n",
              " 'IWGP Junior Heavyweight TitleNWA Junior Heavyweight TitleWWA Junior Lightheavyweight Title',\n",
              " 'British Junior Heavyweight TitleIWGP Junior Heavyweight TitleNWA Junior Heavyweight Title',\n",
              " 'HCW Heavyweight Title',\n",
              " 'TNA World Heavyweight Title',\n",
              " 'AJPW Triple Crown TitleIWGP World Heavyweight Championship',\n",
              " 'WAR International Junior Heavyweight Title',\n",
              " 'WWF International Title',\n",
              " 'British Junior Heavyweight Title',\n",
              " 'AWA World Heavyweight Championship',\n",
              " 'British Junior Heavyweight TitleNWA Welterweight TitleUWA Junior Heavyweight Title',\n",
              " 'IWGP Greatest 18 Title',\n",
              " 'WWA Junior Lightheavyweight TitleWWF Light Heavyweight Title',\n",
              " 'JAPW Lightheavyweight Title',\n",
              " 'WCW International World Heavyweight Championship']"
            ]
          },
          "metadata": {
            "tags": []
          },
          "execution_count": 27
        }
      ]
    },
    {
      "cell_type": "markdown",
      "metadata": {
        "id": "dmffpps-D1wD"
      },
      "source": [
        "WON Rating"
      ]
    },
    {
      "cell_type": "code",
      "metadata": {
        "id": "z65T88Cl_W4R",
        "colab": {
          "base_uri": "https://localhost:8080/"
        },
        "outputId": "5846ee0d-4ba9-4792-9b32-2d272ab24c92"
      },
      "source": [
        "all_matches['WON Rating'].value_counts()"
      ],
      "execution_count": null,
      "outputs": [
        {
          "output_type": "execute_result",
          "data": {
            "text/plain": [
              " 3.50    187\n",
              " 3.75    170\n",
              " 3.25    169\n",
              " 4.00    161\n",
              " 4.50    156\n",
              " 4.25    155\n",
              " 4.75     90\n",
              " 3.00     79\n",
              " 2.50     62\n",
              " 2.75     56\n",
              " 2.25     45\n",
              " 2.00     38\n",
              " 5.00     37\n",
              " 1.50     35\n",
              " 1.75     26\n",
              " 1.00     22\n",
              " 1.25     14\n",
              " 0.00      9\n",
              "-1.00      8\n",
              " 5.50      7\n",
              " 5.75      6\n",
              "-2.00      2\n",
              " 6.00      2\n",
              " 5.25      2\n",
              " 7.00      1\n",
              "-4.00      1\n",
              " 6.25      1\n",
              "Name: WON Rating, dtype: int64"
            ]
          },
          "metadata": {
            "tags": []
          },
          "execution_count": 28
        }
      ]
    },
    {
      "cell_type": "markdown",
      "metadata": {
        "id": "YtsHMT-GD5ra"
      },
      "source": [
        "Date"
      ]
    },
    {
      "cell_type": "code",
      "metadata": {
        "id": "BxTrDhbw_56W",
        "colab": {
          "base_uri": "https://localhost:8080/",
          "height": 352
        },
        "outputId": "c73b5c7c-e042-4f5b-c6a7-9340644a9217"
      },
      "source": [
        "plt.hist(all_matches['Date'])"
      ],
      "execution_count": null,
      "outputs": [
        {
          "output_type": "execute_result",
          "data": {
            "text/plain": [
              "(array([  36.,  354.,  297.,  205.,  523., 1445., 2283., 1446., 1532.,\n",
              "        1689.]),\n",
              " array([719958. , 721740.4, 723522.8, 725305.2, 727087.6, 728870. ,\n",
              "        730652.4, 732434.8, 734217.2, 735999.6, 737782. ]),\n",
              " <a list of 10 Patch objects>)"
            ]
          },
          "metadata": {
            "tags": []
          },
          "execution_count": 29
        },
        {
          "output_type": "display_data",
          "data": {
            "image/png": "[encoded data removed]",
            "text/plain": [
              "<Figure size 432x288 with 1 Axes>"
            ]
          },
          "metadata": {
            "tags": [],
            "needs_background": "light"
          }
        }
      ]
    },
    {
      "cell_type": "markdown",
      "metadata": {
        "id": "Do5pncEiD9_k"
      },
      "source": [
        "Venue"
      ]
    },
    {
      "cell_type": "code",
      "metadata": {
        "id": "d1pfuNUEAKMm",
        "colab": {
          "base_uri": "https://localhost:8080/"
        },
        "outputId": "8790eb80-6d2a-4c4d-d8e1-ccc7e82afaad"
      },
      "source": [
        "all_matches['Venue'].value_counts()"
      ],
      "execution_count": null,
      "outputs": [
        {
          "output_type": "execute_result",
          "data": {
            "text/plain": [
              "Korakuen Hall, Tokyo, Tokyo                           1243\n",
              "New Sumo Hall - Ryogoku Kokugikan, Tokyo, Tokyo        729\n",
              "Tokyo Dome, Tokyo, Tokyo                               330\n",
              "Osaka Prefectural Gymnasium, Osaka, Osaka              322\n",
              "Aichi Prefectural Gymnasium, Nagoya, Aichi             269\n",
              "                                                      ... \n",
              "Tainai City General Gymnasium, Tainai, Niigata           1\n",
              "Tomakomai City Gymnasium, Tomakomai, Hokkaido            1\n",
              "Choshi City Gymnasium, Choshi, Chiba                     1\n",
              "Ise Sun Arena Sub Arena, Mie, Oita                       1\n",
              "Miyako Fish & Vegetables Market II, Miyako, Honshu       1\n",
              "Name: Venue, Length: 687, dtype: int64"
            ]
          },
          "metadata": {
            "tags": []
          },
          "execution_count": 30
        }
      ]
    },
    {
      "cell_type": "markdown",
      "metadata": {
        "id": "IQ3Kj-n_OylT"
      },
      "source": [
        "# Machine Learning"
      ]
    },
    {
      "cell_type": "markdown",
      "metadata": {
        "id": "sZTnS2mLrzID"
      },
      "source": [
        "## Adding past information"
      ]
    },
    {
      "cell_type": "markdown",
      "metadata": {
        "id": "xV0XPhTOEE7o"
      },
      "source": [
        "Start by doubling up each match. Each match will exist twice in the dataset, once from the perspective of each wrestler."
      ]
    },
    {
      "cell_type": "code",
      "metadata": {
        "id": "27--fxXhwAuC"
      },
      "source": [
        "def double_up_df(df):\n",
        "  df_copy = df.copy()\n",
        "  df_reversed = df.copy()\n",
        "  df_reversed.columns = [ 'Date', 'Event', 'Venue', 'Attendance', 'Card Ranking', 'Match Time', 'Person 2 Champion', 'Person 2 ID',\n",
        "       'Person 2 Name', 'Person 1 Champion', 'Person 1 ID', 'Person 1 Name',\n",
        "       'Result Descriptor', 'Stipulation', 'Title', 'WON Rating', 'Result']\n",
        "  df_copy['Result'] = df_copy['Result'].transform(lambda x: 'win' if x == 'def' else x)\n",
        "  df_reversed['Result'] = df_reversed['Result'].transform(lambda x: 'loss' if x == 'def' else x)\n",
        "  return pd.concat([df_copy, df_reversed])"
      ],
      "execution_count": null,
      "outputs": []
    },
    {
      "cell_type": "code",
      "metadata": {
        "id": "1UfupkdREq9h"
      },
      "source": [
        "all_matches_processed = double_up_df(all_matches)"
      ],
      "execution_count": null,
      "outputs": []
    },
    {
      "cell_type": "markdown",
      "metadata": {
        "id": "oCKUL0KaEkVU"
      },
      "source": [
        "Process dates as the number of days since Jan 1st 1970"
      ]
    },
    {
      "cell_type": "code",
      "metadata": {
        "id": "XCnmZ7KitQOh"
      },
      "source": [
        "all_matches_processed['Date'] = (all_matches_processed['Date'] - np.datetime64('1970-01-01'))\n",
        "all_matches_processed['Date'] = [timedelta.days for timedelta in all_matches_processed['Date']]"
      ],
      "execution_count": null,
      "outputs": []
    },
    {
      "cell_type": "code",
      "metadata": {
        "id": "CIy_P9di4rDS"
      },
      "source": [
        "all_matches_processed = all_matches_processed.sort_values('Date')"
      ],
      "execution_count": null,
      "outputs": []
    },
    {
      "cell_type": "markdown",
      "metadata": {
        "id": "p0VgmgB3FIhR"
      },
      "source": [
        "The result of a match is often influenced by the results of the matches that have come before, and how long ago those matches were. My aim here is to make the previous three match results for a wrestler, as well as the time since these matches, features in the prediction.\r\n",
        "I will also make the previous three match results for a particular matchup of two wrestlers (and the time since these matches) features in the prediction."
      ]
    },
    {
      "cell_type": "markdown",
      "metadata": {
        "id": "GlstuKJWEqng"
      },
      "source": [
        "Make a list of every wrestler ID and every combination of wrestlers who have wrestled each other."
      ]
    },
    {
      "cell_type": "code",
      "metadata": {
        "id": "CLm2YGAo5L2M"
      },
      "source": [
        "all_ids = all_matches_processed['Person 1 ID'].drop_duplicates()"
      ],
      "execution_count": null,
      "outputs": []
    },
    {
      "cell_type": "code",
      "metadata": {
        "id": "VnvJit1M5XLb"
      },
      "source": [
        "all_combos = (all_matches_processed['Person 1 ID'] + ' vs. ' + all_matches_processed['Person 2 ID']).drop_duplicates()"
      ],
      "execution_count": null,
      "outputs": []
    },
    {
      "cell_type": "markdown",
      "metadata": {
        "id": "ZzkCgFzTEwua"
      },
      "source": [
        "Generate dictionaries to record match results."
      ]
    },
    {
      "cell_type": "code",
      "metadata": {
        "id": "RcqqO8ejdYH1"
      },
      "source": [
        "match_3_result = []\n",
        "match_2_result = []\n",
        "match_1_result = []\n",
        "match_3_date = []\n",
        "match_2_date = []\n",
        "match_1_date = []"
      ],
      "execution_count": null,
      "outputs": []
    },
    {
      "cell_type": "code",
      "metadata": {
        "id": "VlocsO_Kd-KE"
      },
      "source": [
        "match_3_betwixt_result = []\n",
        "match_2_betwixt_result = []\n",
        "match_1_betwixt_result = []\n",
        "match_3_betwixt_date = []\n",
        "match_2_betwixt_date = []\n",
        "match_1_betwixt_date = []"
      ],
      "execution_count": null,
      "outputs": []
    },
    {
      "cell_type": "code",
      "metadata": {
        "id": "tFQ6WeSj5pFM"
      },
      "source": [
        "id_dict = {}\n",
        "for id in all_ids.values:\n",
        "  id_dict[id] = [None, None, None, None, None, None]"
      ],
      "execution_count": null,
      "outputs": []
    },
    {
      "cell_type": "code",
      "metadata": {
        "id": "13nmOX8W6NmM"
      },
      "source": [
        "combo_dict = {}\n",
        "for combo in all_combos:\n",
        "  combo_dict[combo] = [None, None, None, None, None, None]"
      ],
      "execution_count": null,
      "outputs": []
    },
    {
      "cell_type": "markdown",
      "metadata": {
        "id": "54y-YsY1c54t"
      },
      "source": [
        "For each match:\n",
        "\n",
        "- figure out if this person has a had a match before. If so, update the array in the dict with details of this match, and add to the lists. If not, add the details of this match to the array.\n",
        "- figure out if these two people have had a match before. Same as above."
      ]
    },
    {
      "cell_type": "code",
      "metadata": {
        "id": "6miAnW7X6Xc_"
      },
      "source": [
        "for date, person_1, person_2, result in zip(all_matches_processed['Date'],all_matches_processed['Person 1 ID'],all_matches_processed['Person 2 ID'],all_matches_processed['Result']):\n",
        "  # matches for person_1 only\n",
        "  previous_match_results = id_dict[person_1][:3]\n",
        "  previous_match_dates = id_dict[person_1][3:]\n",
        "  match_3_result.append(previous_match_results[0])\n",
        "  match_2_result.append(previous_match_results[1])\n",
        "  match_1_result.append(previous_match_results[2])\n",
        "  if previous_match_results[0] == None:\n",
        "    match_3_date.append(None)\n",
        "  else:\n",
        "    match_3_date.append(date - previous_match_dates[0])\n",
        "  if previous_match_results[1] == None:\n",
        "    match_2_date.append(None)\n",
        "  else:\n",
        "    match_2_date.append(date - previous_match_dates[1])\n",
        "  if previous_match_results[2] == None:\n",
        "    match_1_date.append(None)\n",
        "  else:\n",
        "    match_1_date.append(date - previous_match_dates[2])\n",
        "  current_match_results = (previous_match_results + [result])[1:]\n",
        "  current_match_dates = (previous_match_dates + [date])[1:]\n",
        "  id_dict[person_1] = current_match_results + current_match_dates\n",
        "\n",
        "  # betwixt matches\n",
        "  match_name = person_1 + ' vs. ' + person_2\n",
        "  previous_match_results = combo_dict[match_name][:3]\n",
        "  previous_match_dates = combo_dict[match_name][3:]\n",
        "  match_3_betwixt_result.append(previous_match_results[0])\n",
        "  match_2_betwixt_result.append(previous_match_results[1])\n",
        "  match_1_betwixt_result.append(previous_match_results[2])\n",
        "  if previous_match_results[0] == None:\n",
        "    match_3_betwixt_date.append(None)\n",
        "  else:\n",
        "    match_3_betwixt_date.append(date - previous_match_dates[0])\n",
        "  if previous_match_results[1] == None:\n",
        "    match_2_betwixt_date.append(None)\n",
        "  else:\n",
        "    match_2_betwixt_date.append(date - previous_match_dates[1])\n",
        "  if previous_match_results[2] == None:\n",
        "    match_1_betwixt_date.append(None)\n",
        "  else:\n",
        "    match_1_betwixt_date.append(date - previous_match_dates[2])\n",
        "  current_match_results = (previous_match_results + [result])[1:]\n",
        "  current_match_dates = (previous_match_dates + [date])[1:]\n",
        "  combo_dict[match_name] = current_match_results + current_match_dates"
      ],
      "execution_count": null,
      "outputs": []
    },
    {
      "cell_type": "code",
      "metadata": {
        "id": "rFweLvk1kpDj"
      },
      "source": [
        "all_matches_processed['Match 3 Result'] = match_3_result\n",
        "all_matches_processed['Match 2 Result'] = match_2_result\n",
        "all_matches_processed['Match 1 Result'] = match_1_result\n",
        "all_matches_processed['Match 3 Days Since'] = match_3_date\n",
        "all_matches_processed['Match 2 Days Since'] = match_2_date\n",
        "all_matches_processed['Match 1 Days Since'] = match_1_date\n",
        "all_matches_processed['Match 3 Betwixt Result'] = match_3_betwixt_result\n",
        "all_matches_processed['Match 2 Betwixt Result'] = match_2_betwixt_result\n",
        "all_matches_processed['Match 1 Betwixt Result'] = match_1_betwixt_result\n",
        "all_matches_processed['Match 3 Betwixt Days Since'] = match_3_betwixt_date\n",
        "all_matches_processed['Match 2 Betwixt Days Since'] = match_2_betwixt_date\n",
        "all_matches_processed['Match 1 Betwixt Days Since'] = match_1_betwixt_date"
      ],
      "execution_count": null,
      "outputs": []
    },
    {
      "cell_type": "markdown",
      "metadata": {
        "id": "Z6GBcGgj4n3A"
      },
      "source": [
        "## Splitting Test and Train"
      ]
    },
    {
      "cell_type": "markdown",
      "metadata": {
        "id": "hgC1oylAulbR"
      },
      "source": [
        "In this instance, I will use matches from 2012 - 2018 as the training set, 2019 matches as a validation set, and 2020 matches as a test set."
      ]
    },
    {
      "cell_type": "code",
      "metadata": {
        "id": "TnfdnRgMFpk6"
      },
      "source": [
        "df_train_and_val = all_matches_processed[all_matches_processed['Date'] < 18262]\n",
        "df_train = df_train_and_val[df_train_and_val['Date'] < 17897].copy()\n",
        "df_val = df_train_and_val[df_train_and_val['Date'] >= 17897].copy()\n",
        "df_test = all_matches_processed[all_matches_processed['Date'] >= 18262].copy()"
      ],
      "execution_count": null,
      "outputs": []
    },
    {
      "cell_type": "markdown",
      "metadata": {
        "id": "EoVjt3iar3NB"
      },
      "source": [
        "## Preprocessing Proper"
      ]
    },
    {
      "cell_type": "code",
      "metadata": {
        "id": "Ewuw0Ud6sAX8"
      },
      "source": [
        "from sklearn.pipeline import Pipeline\n",
        "from sklearn.impute import SimpleImputer\n",
        "from sklearn.preprocessing import OneHotEncoder\n",
        "from sklearn.preprocessing import StandardScaler\n",
        "from sklearn.compose import ColumnTransformer\n",
        "from sklearn.base import TransformerMixin\n",
        "from sklearn.base import BaseEstimator"
      ],
      "execution_count": null,
      "outputs": []
    },
    {
      "cell_type": "markdown",
      "metadata": {
        "id": "yngfy7lM6MB0"
      },
      "source": [
        "2012 Jan 1st is the start date for the training set.\r\n",
        "\r\n"
      ]
    },
    {
      "cell_type": "code",
      "metadata": {
        "id": "fl09AVRlsVB8"
      },
      "source": [
        "df_train = df_train[df_train['Date'] > 15340]"
      ],
      "execution_count": null,
      "outputs": []
    },
    {
      "cell_type": "code",
      "metadata": {
        "id": "OubdchhfsMgt"
      },
      "source": [
        "y_train = df_train['Result']"
      ],
      "execution_count": null,
      "outputs": []
    },
    {
      "cell_type": "code",
      "metadata": {
        "id": "e07cNNgUoH2h"
      },
      "source": [
        "y_val = df_val['Result']"
      ],
      "execution_count": null,
      "outputs": []
    },
    {
      "cell_type": "markdown",
      "metadata": {
        "id": "Cz_p-cCc7IOL"
      },
      "source": [
        "Classifying event type - I will class all events into the following categories: G1 Specials, G1 Climax shows, Best of Super Juniors, 'Road to' shows, Super J-Cup shows, Wrestle Kingdom, Dominion, New Japan Cup, mid-level shows, Lion's Break, and other."
      ]
    },
    {
      "cell_type": "code",
      "metadata": {
        "id": "ZsjaEKmeujFX"
      },
      "source": [
        "def classify_event_type(event_name):\n",
        "  if 'g1 special' in event_name.lower():\n",
        "    return 'G1 Special'\n",
        "  if 'g1 climax' in event_name.lower() and 'day' in event_name.lower():\n",
        "    return 'G1'\n",
        "  if 'best' in event_name.lower() and 'super' in event_name.lower():\n",
        "    return 'BoSJ'\n",
        "  if 'road' in event_name.lower():\n",
        "    return 'Road To'\n",
        "  if 'j-cup' in event_name.lower():\n",
        "    return 'J-Cup'\n",
        "  if 'wrestle kingdom' in event_name.lower() or 'wrestlekingdom' in event_name.lower():\n",
        "    return 'Wrestle Kingdom'\n",
        "  if 'dominion' in event_name.lower():\n",
        "    return 'Dominion'\n",
        "  if 'new japan cup' in event_name.lower():\n",
        "    return 'NJ Cup'\n",
        "  if 'dontaku' in event_name.lower() or 'king of pro wrestling' in event_name.lower() or 'king of pro-wrestling' in event_name.lower() or 'power struggle' in event_name.lower() or 'beginning' in event_name.lower() or 'anniversary' in event_name.lower() or 'invasion' in event_name.lower() or 'destruction' in event_name.lower() or 'fighting spirit' in event_name.lower() or 'sakura' in event_name.lower() or 'hinokuni' in event_name.lower() or 'evolved' in event_name.lower():\n",
        "    return 'Mid-level Event'\n",
        "  if 'break' in event_name.lower():\n",
        "    return 'Lion\\'s Break'\n",
        "  return 'Other'"
      ],
      "execution_count": null,
      "outputs": []
    },
    {
      "cell_type": "code",
      "metadata": {
        "id": "4nLQxdy91vT1"
      },
      "source": [
        "df_train['Event Type'] = [classify_event_type(event) for event in df_train['Event']]"
      ],
      "execution_count": null,
      "outputs": []
    },
    {
      "cell_type": "code",
      "metadata": {
        "id": "anhxEt0840lM"
      },
      "source": [
        "df_val['Event Type'] = [classify_event_type(event) for event in df_val['Event']]"
      ],
      "execution_count": null,
      "outputs": []
    },
    {
      "cell_type": "markdown",
      "metadata": {
        "id": "2SYU_lIsgvIf"
      },
      "source": [
        "Transform all attributes into numeric form."
      ]
    },
    {
      "cell_type": "code",
      "metadata": {
        "id": "boJX03Krv6Dr"
      },
      "source": [
        "class MakeNumericTransformer(BaseEstimator, TransformerMixin):\n",
        "  def __init__(self):\n",
        "    pass\n",
        "\n",
        "  def fit(self, X, y = None):\n",
        "    return self\n",
        "  \n",
        "  def transform(self, X, y = None):\n",
        "    \n",
        "    X_numeric = []\n",
        "    for column in X:\n",
        "      X_column_numeric = []\n",
        "      for value in X[column]:\n",
        "        if pd.isna(value):\n",
        "          X_column_numeric.append(0)\n",
        "        elif value == None:\n",
        "          X_column_numeric.append(0)\n",
        "        elif value == 'draw':\n",
        "          X_column_numeric.append(0)\n",
        "        elif value == 'loss':\n",
        "          X_column_numeric.append(-1)\n",
        "        elif value == 'win':\n",
        "          X_column_numeric.append(1)\n",
        "        else:\n",
        "          X_column_numeric.append(value)\n",
        "      X_numeric.append(X_column_numeric)\n",
        "    return np.transpose(np.asarray(X_numeric))"
      ],
      "execution_count": null,
      "outputs": []
    },
    {
      "cell_type": "code",
      "metadata": {
        "id": "Rt6B79rsyL_E"
      },
      "source": [
        "num_attribs = ['Card Ranking','Match 3 Result','Match 2 Result', 'Match 1 Result',\n",
        "       'Match 3 Days Since', 'Match 2 Days Since', 'Match 1 Days Since',\n",
        "       'Match 3 Betwixt Result', 'Match 2 Betwixt Result',\n",
        "       'Match 1 Betwixt Result', 'Match 3 Betwixt Days Since',\n",
        "       'Match 2 Betwixt Days Since', 'Match 1 Betwixt Days Since','Date','Person 1 Champion',\n",
        "       'Person 2 Champion']"
      ],
      "execution_count": null,
      "outputs": []
    },
    {
      "cell_type": "code",
      "metadata": {
        "id": "Y9AU_mm61fSJ"
      },
      "source": [
        "cat_attribs = ['Event Type','Venue','Person 1 ID','Person 2 ID','Title']"
      ],
      "execution_count": null,
      "outputs": []
    },
    {
      "cell_type": "code",
      "metadata": {
        "id": "wNPhPiTL6-3v"
      },
      "source": [
        "num_pipeline = Pipeline([\n",
        "                         ('make_numeric',MakeNumericTransformer()),\n",
        "                         ('std_scaler',StandardScaler())\n",
        "])\n",
        "\n",
        "full_pipeline = ColumnTransformer([\n",
        "                                   ('num',num_pipeline,num_attribs),\n",
        "                                   ('cat',OneHotEncoder(handle_unknown='ignore'),cat_attribs)\n",
        "])"
      ],
      "execution_count": null,
      "outputs": []
    },
    {
      "cell_type": "code",
      "metadata": {
        "id": "M1eWJ4Us8lqz"
      },
      "source": [
        "X_train_prepared = full_pipeline.fit_transform(df_train)"
      ],
      "execution_count": null,
      "outputs": []
    },
    {
      "cell_type": "code",
      "metadata": {
        "id": "KHPDTApG4C9h"
      },
      "source": [
        "X_val_prepared = full_pipeline.transform(df_val)"
      ],
      "execution_count": null,
      "outputs": []
    },
    {
      "cell_type": "markdown",
      "metadata": {
        "id": "eRqYkbb6T2mz"
      },
      "source": [
        "## XGBoost"
      ]
    },
    {
      "cell_type": "markdown",
      "metadata": {
        "id": "OKn5J9_W9jP-"
      },
      "source": [
        "I will train the data on XGBoost, using the validation set for early stopping."
      ]
    },
    {
      "cell_type": "code",
      "metadata": {
        "id": "vlTTFAyLUWms"
      },
      "source": [
        "from xgboost import XGBClassifier\r\n",
        "from sklearn.metrics import accuracy_score"
      ],
      "execution_count": null,
      "outputs": []
    },
    {
      "cell_type": "code",
      "metadata": {
        "id": "C6qQOnDWUZAT"
      },
      "source": [
        "xgb = XGBClassifier()"
      ],
      "execution_count": null,
      "outputs": []
    },
    {
      "cell_type": "code",
      "metadata": {
        "id": "DyEeL30QUfEB"
      },
      "source": [
        "y_train_prepared = np.asarray([{'loss':0, 'draw':0, 'win':1}[result] for result in y_train])"
      ],
      "execution_count": null,
      "outputs": []
    },
    {
      "cell_type": "code",
      "metadata": {
        "id": "DXrimpleUcCn"
      },
      "source": [
        "y_val_prepared = np.asarray([{'loss':0, 'draw':0, 'win':1}[result] for result in y_val])"
      ],
      "execution_count": null,
      "outputs": []
    },
    {
      "cell_type": "code",
      "metadata": {
        "id": "mS9SWUfxhUen"
      },
      "source": [
        "eval_set = [(X_val_prepared.toarray(), y_val_prepared)]"
      ],
      "execution_count": null,
      "outputs": []
    },
    {
      "cell_type": "code",
      "metadata": {
        "colab": {
          "base_uri": "https://localhost:8080/"
        },
        "id": "pIEeQtCBhdvp",
        "outputId": "1455943f-e532-447c-88f3-558fd6cb3213"
      },
      "source": [
        "xgb.fit(X_train_prepared, y_train_prepared, eval_metric=\"error\", eval_set=eval_set, verbose=True, early_stopping_rounds=1000)"
      ],
      "execution_count": null,
      "outputs": [
        {
          "output_type": "stream",
          "text": [
            "[0]\tvalidation_0-error:0.481203\n",
            "Will train until validation_0-error hasn't improved in 1000 rounds.\n",
            "[1]\tvalidation_0-error:0.464912\n",
            "[2]\tvalidation_0-error:0.472431\n",
            "[3]\tvalidation_0-error:0.474937\n",
            "[4]\tvalidation_0-error:0.478697\n",
            "[5]\tvalidation_0-error:0.486216\n",
            "[6]\tvalidation_0-error:0.484962\n",
            "[7]\tvalidation_0-error:0.489975\n",
            "[8]\tvalidation_0-error:0.47995\n",
            "[9]\tvalidation_0-error:0.464912\n",
            "[10]\tvalidation_0-error:0.454887\n",
            "[11]\tvalidation_0-error:0.454887\n",
            "[12]\tvalidation_0-error:0.458647\n",
            "[13]\tvalidation_0-error:0.462406\n",
            "[14]\tvalidation_0-error:0.468672\n",
            "[15]\tvalidation_0-error:0.43609\n",
            "[16]\tvalidation_0-error:0.434837\n",
            "[17]\tvalidation_0-error:0.466165\n",
            "[18]\tvalidation_0-error:0.467419\n",
            "[19]\tvalidation_0-error:0.444862\n",
            "[20]\tvalidation_0-error:0.45614\n",
            "[21]\tvalidation_0-error:0.462406\n",
            "[22]\tvalidation_0-error:0.449875\n",
            "[23]\tvalidation_0-error:0.463659\n",
            "[24]\tvalidation_0-error:0.47995\n",
            "[25]\tvalidation_0-error:0.47995\n",
            "[26]\tvalidation_0-error:0.488722\n",
            "[27]\tvalidation_0-error:0.483709\n",
            "[28]\tvalidation_0-error:0.487469\n",
            "[29]\tvalidation_0-error:0.481203\n",
            "[30]\tvalidation_0-error:0.474937\n",
            "[31]\tvalidation_0-error:0.494987\n",
            "[32]\tvalidation_0-error:0.506266\n",
            "[33]\tvalidation_0-error:0.487469\n",
            "[34]\tvalidation_0-error:0.474937\n",
            "[35]\tvalidation_0-error:0.481203\n",
            "[36]\tvalidation_0-error:0.47619\n",
            "[37]\tvalidation_0-error:0.478697\n",
            "[38]\tvalidation_0-error:0.468672\n",
            "[39]\tvalidation_0-error:0.47995\n",
            "[40]\tvalidation_0-error:0.47995\n",
            "[41]\tvalidation_0-error:0.474937\n",
            "[42]\tvalidation_0-error:0.489975\n",
            "[43]\tvalidation_0-error:0.481203\n",
            "[44]\tvalidation_0-error:0.489975\n",
            "[45]\tvalidation_0-error:0.474937\n",
            "[46]\tvalidation_0-error:0.483709\n",
            "[47]\tvalidation_0-error:0.474937\n",
            "[48]\tvalidation_0-error:0.477444\n",
            "[49]\tvalidation_0-error:0.47619\n",
            "[50]\tvalidation_0-error:0.481203\n",
            "[51]\tvalidation_0-error:0.478697\n",
            "[52]\tvalidation_0-error:0.47995\n",
            "[53]\tvalidation_0-error:0.47619\n",
            "[54]\tvalidation_0-error:0.47619\n",
            "[55]\tvalidation_0-error:0.481203\n",
            "[56]\tvalidation_0-error:0.47995\n",
            "[57]\tvalidation_0-error:0.486216\n",
            "[58]\tvalidation_0-error:0.486216\n",
            "[59]\tvalidation_0-error:0.493734\n",
            "[60]\tvalidation_0-error:0.492481\n",
            "[61]\tvalidation_0-error:0.489975\n",
            "[62]\tvalidation_0-error:0.492481\n",
            "[63]\tvalidation_0-error:0.484962\n",
            "[64]\tvalidation_0-error:0.481203\n",
            "[65]\tvalidation_0-error:0.483709\n",
            "[66]\tvalidation_0-error:0.486216\n",
            "[67]\tvalidation_0-error:0.494987\n",
            "[68]\tvalidation_0-error:0.47995\n",
            "[69]\tvalidation_0-error:0.483709\n",
            "[70]\tvalidation_0-error:0.484962\n",
            "[71]\tvalidation_0-error:0.489975\n",
            "[72]\tvalidation_0-error:0.497494\n",
            "[73]\tvalidation_0-error:0.487469\n",
            "[74]\tvalidation_0-error:0.496241\n",
            "[75]\tvalidation_0-error:0.492481\n",
            "[76]\tvalidation_0-error:0.5\n",
            "[77]\tvalidation_0-error:0.494987\n",
            "[78]\tvalidation_0-error:0.502506\n",
            "[79]\tvalidation_0-error:0.505013\n",
            "[80]\tvalidation_0-error:0.501253\n",
            "[81]\tvalidation_0-error:0.501253\n",
            "[82]\tvalidation_0-error:0.503759\n",
            "[83]\tvalidation_0-error:0.505013\n",
            "[84]\tvalidation_0-error:0.505013\n",
            "[85]\tvalidation_0-error:0.501253\n",
            "[86]\tvalidation_0-error:0.505013\n",
            "[87]\tvalidation_0-error:0.501253\n",
            "[88]\tvalidation_0-error:0.503759\n",
            "[89]\tvalidation_0-error:0.497494\n",
            "[90]\tvalidation_0-error:0.502506\n",
            "[91]\tvalidation_0-error:0.498747\n",
            "[92]\tvalidation_0-error:0.497494\n",
            "[93]\tvalidation_0-error:0.503759\n",
            "[94]\tvalidation_0-error:0.502506\n",
            "[95]\tvalidation_0-error:0.503759\n",
            "[96]\tvalidation_0-error:0.497494\n",
            "[97]\tvalidation_0-error:0.5\n",
            "[98]\tvalidation_0-error:0.496241\n",
            "[99]\tvalidation_0-error:0.496241\n"
          ],
          "name": "stdout"
        },
        {
          "output_type": "execute_result",
          "data": {
            "text/plain": [
              "XGBClassifier(base_score=0.5, booster='gbtree', colsample_bylevel=1,\n",
              "              colsample_bynode=1, colsample_bytree=1, gamma=0,\n",
              "              learning_rate=0.1, max_delta_step=0, max_depth=3,\n",
              "              min_child_weight=1, missing=None, n_estimators=100, n_jobs=1,\n",
              "              nthread=None, objective='binary:logistic', random_state=0,\n",
              "              reg_alpha=0, reg_lambda=1, scale_pos_weight=1, seed=None,\n",
              "              silent=None, subsample=1, verbosity=1)"
            ]
          },
          "metadata": {
            "tags": []
          },
          "execution_count": 101
        }
      ]
    },
    {
      "cell_type": "code",
      "metadata": {
        "colab": {
          "base_uri": "https://localhost:8080/"
        },
        "id": "vjwEMdVMhkjS",
        "outputId": "660220f7-f7b3-475d-8c44-09952238f1f1"
      },
      "source": [
        "accuracy_score(y_val_prepared, xgb.predict(X_val_prepared))"
      ],
      "execution_count": null,
      "outputs": [
        {
          "output_type": "execute_result",
          "data": {
            "text/plain": [
              "0.5776942355889725"
            ]
          },
          "metadata": {
            "tags": []
          },
          "execution_count": 104
        }
      ]
    },
    {
      "cell_type": "markdown",
      "metadata": {
        "id": "xxvhkVsAWtMq"
      },
      "source": [
        "## Testing"
      ]
    },
    {
      "cell_type": "code",
      "metadata": {
        "id": "7pWvr7WdWv25"
      },
      "source": [
        "y_test = df_test['Result']"
      ],
      "execution_count": null,
      "outputs": []
    },
    {
      "cell_type": "code",
      "metadata": {
        "id": "Hu2H69-IW-Sd"
      },
      "source": [
        "df_test['Event Type'] = [classify_event_type(event) for event in df_test['Event']]"
      ],
      "execution_count": null,
      "outputs": []
    },
    {
      "cell_type": "code",
      "metadata": {
        "id": "IN_4dkmfKND9"
      },
      "source": [
        "X_test_prepared = full_pipeline.transform(df_test)"
      ],
      "execution_count": null,
      "outputs": []
    },
    {
      "cell_type": "code",
      "metadata": {
        "id": "W_qoqMHZKIkH"
      },
      "source": [
        "y_test_prepared = np.asarray([{'loss':0, 'draw':0, 'win':1}[result] for result in y_test])"
      ],
      "execution_count": null,
      "outputs": []
    },
    {
      "cell_type": "code",
      "metadata": {
        "colab": {
          "base_uri": "https://localhost:8080/"
        },
        "id": "G334o8O-MGMN",
        "outputId": "0106bdc4-ab45-424c-cc17-bf3bb98d8b00"
      },
      "source": [
        "accuracy_score(y_test_prepared, xgb.predict(X_test_prepared))"
      ],
      "execution_count": null,
      "outputs": [
        {
          "output_type": "execute_result",
          "data": {
            "text/plain": [
              "0.5415430267062314"
            ]
          },
          "metadata": {
            "tags": []
          },
          "execution_count": 109
        }
      ]
    },
    {
      "cell_type": "markdown",
      "metadata": {
        "id": "BzPsqqkRKF-T"
      },
      "source": [
        "Clearly this method has not worked particularly well."
      ]
    },
    {
      "cell_type": "markdown",
      "metadata": {
        "id": "0vCthwdGZyVh"
      },
      "source": [
        "# Creating prediction engine and testing on Wrestle Kingdom 15"
      ]
    },
    {
      "cell_type": "markdown",
      "metadata": {
        "id": "LBG9lZzJKBPG"
      },
      "source": [
        "Just for fun, I'm creating a prediction engine based on all the data."
      ]
    },
    {
      "cell_type": "code",
      "metadata": {
        "id": "4jphX5GVbFWt"
      },
      "source": [
        "all_matches_post_2012 = all_matches_processed[all_matches_processed['Date'] > 15340].copy()\r\n",
        "y_all = all_matches_post_2012['Result']\r\n",
        "y_all_prepared = np.asarray([{'loss':0, 'draw':0, 'win':1}[result] for result in y_all])\r\n",
        "all_matches_post_2012['Event Type'] = [classify_event_type(event) for event in all_matches_post_2012['Event']]\r\n",
        "X_all_prepared = full_pipeline.transform(all_matches_post_2012)"
      ],
      "execution_count": null,
      "outputs": []
    },
    {
      "cell_type": "markdown",
      "metadata": {
        "id": "80vh4XV_KkP2"
      },
      "source": [
        "Intentionally overfitting - when using too few estimators the engine doesn't commit to a choice."
      ]
    },
    {
      "cell_type": "code",
      "metadata": {
        "colab": {
          "base_uri": "https://localhost:8080/"
        },
        "id": "7vRg37LNbYCo",
        "outputId": "cc2cfb63-0134-4c7f-efa4-a340279ea142"
      },
      "source": [
        "xgb = XGBClassifier(n_estimators = 1000)\r\n",
        "xgb.fit(X_all_prepared, y_all_prepared, eval_metric=\"error\", verbose=True)"
      ],
      "execution_count": null,
      "outputs": [
        {
          "output_type": "execute_result",
          "data": {
            "text/plain": [
              "XGBClassifier(base_score=0.5, booster='gbtree', colsample_bylevel=1,\n",
              "              colsample_bynode=1, colsample_bytree=1, gamma=0,\n",
              "              learning_rate=0.1, max_delta_step=0, max_depth=3,\n",
              "              min_child_weight=1, missing=None, n_estimators=1000, n_jobs=1,\n",
              "              nthread=None, objective='binary:logistic', random_state=0,\n",
              "              reg_alpha=0, reg_lambda=1, scale_pos_weight=1, seed=None,\n",
              "              silent=None, subsample=1, verbosity=1)"
            ]
          },
          "metadata": {
            "tags": []
          },
          "execution_count": 112
        }
      ]
    },
    {
      "cell_type": "markdown",
      "metadata": {
        "id": "zYsFZrHOAy0X"
      },
      "source": [
        "Create a dict to change names into IDs"
      ]
    },
    {
      "cell_type": "code",
      "metadata": {
        "id": "OovEjXu2__Vd"
      },
      "source": [
        "name_to_id_dict = {name:id for name, id in zip(all_matches_processed['Person 1 Name'],all_matches_processed['Person 1 ID'])}\r\n",
        "for name, id in zip(all_matches_processed['Person 2 Name'],all_matches_processed['Person 2 ID']):\r\n",
        "  if not name in name_to_id_dict.keys():\r\n",
        "    name_to_id_dict[name] = id"
      ],
      "execution_count": null,
      "outputs": []
    },
    {
      "cell_type": "markdown",
      "metadata": {
        "id": "JtVTqJfAeUSn"
      },
      "source": [
        "Creating predictions for future matches: this is where you can enter details"
      ]
    },
    {
      "cell_type": "code",
      "metadata": {
        "id": "Q8AWvqjP-tv0"
      },
      "source": [
        "def predict_winner(datetext, card_ranking, person_1_champion, person_2_champion, event_type, venue, person_1_name, person_2_name, title):\r\n",
        "  match = {}\r\n",
        "  date = (np.datetime64(datetext) - np.datetime64('1970-01-01')) / np.timedelta64(1, 'D') # enter date here\r\n",
        "  match['Date'] = date\r\n",
        "  match['Card Ranking'] = card_ranking\r\n",
        "  match['Person 1 Champion'] = person_1_champion\r\n",
        "  match['Person 2 Champion'] = person_2_champion\r\n",
        "  match['Event Type'] = event_type\r\n",
        "  match['Venue'] = venue\r\n",
        "  match['Person 1 ID'] = name_to_id_dict[person_1_name]\r\n",
        "  match['Person 2 ID'] = name_to_id_dict[person_2_name]\r\n",
        "  match['Title'] = title\r\n",
        "\r\n",
        "  match_reversed = {}\r\n",
        "  match_reversed['Date'] = match['Date']\r\n",
        "  match_reversed['Card Ranking'] = match['Card Ranking']\r\n",
        "  match_reversed['Person 1 Champion'] = match['Person 2 Champion']\r\n",
        "  match_reversed['Person 2 Champion'] = match['Person 1 Champion']\r\n",
        "  match_reversed['Event Type'] = match['Event Type']\r\n",
        "  match_reversed['Venue'] = match['Venue']\r\n",
        "  match_reversed['Person 1 ID'] = match['Person 2 ID']\r\n",
        "  match_reversed['Person 2 ID'] = match['Person 1 ID']\r\n",
        "  match_reversed['Title'] = match['Title']\r\n",
        "\r\n",
        "  match['Match 3 Result'] = id_dict[match['Person 1 ID']][0]\r\n",
        "  match['Match 2 Result'] = id_dict[match['Person 1 ID']][1]\r\n",
        "  match['Match 1 Result'] = id_dict[match['Person 1 ID']][2]\r\n",
        "  match['Match 3 Days Since'] = match['Date'] - id_dict[match['Person 1 ID']][3]\r\n",
        "  match['Match 2 Days Since'] = match['Date'] - id_dict[match['Person 1 ID']][4] \r\n",
        "  match['Match 1 Days Since'] = match['Date'] - id_dict[match['Person 1 ID']][5]\r\n",
        "\r\n",
        "  try:\r\n",
        "    match['Match 3 Betwixt Result'] = combo_dict[match['Person 1 ID'] + ' vs. ' + match['Person 2 ID']][0]\r\n",
        "  except:\r\n",
        "    match['Match 3 Betwixt Result'] = 0\r\n",
        "  try:\r\n",
        "    match['Match 2 Betwixt Result'] = combo_dict[match['Person 1 ID'] + ' vs. ' + match['Person 2 ID']][1]\r\n",
        "  except:\r\n",
        "    match['Match 2 Betwixt Result'] = 0\r\n",
        "  try:\r\n",
        "    match['Match 1 Betwixt Result'] = combo_dict[match['Person 1 ID'] + ' vs. ' + match['Person 2 ID']][2]\r\n",
        "  except:\r\n",
        "    match['Match 1 Betwixt Result'] = 0\r\n",
        "  try:\r\n",
        "    match['Match 3 Betwixt Days Since'] = match['Date'] - combo_dict[match['Person 1 ID'] + ' vs. ' + match['Person 2 ID']][3]\r\n",
        "  except:\r\n",
        "    match['Match 3 Betwixt Days Since'] = 0\r\n",
        "  try:\r\n",
        "    match['Match 2 Betwixt Days Since'] = match['Date'] - combo_dict[match['Person 1 ID'] + ' vs. ' + match['Person 2 ID']][4]\r\n",
        "  except:\r\n",
        "    match['Match 2 Betwixt Days Since'] = 0\r\n",
        "  try:\r\n",
        "    match['Match 1 Betwixt Days Since'] = match['Date'] - combo_dict[match['Person 1 ID'] + ' vs. ' + match['Person 2 ID']][5]\r\n",
        "  except:\r\n",
        "    match['Match 1 Betwixt Days Since'] = 0\r\n",
        "\r\n",
        "  match_reversed['Match 3 Result'] = id_dict[match_reversed['Person 1 ID']][0]\r\n",
        "  match_reversed['Match 2 Result'] = id_dict[match_reversed['Person 1 ID']][1]\r\n",
        "  match_reversed['Match 1 Result'] = id_dict[match_reversed['Person 1 ID']][2]\r\n",
        "  match_reversed['Match 3 Days Since'] = match_reversed['Date'] - id_dict[match_reversed['Person 1 ID']][3]\r\n",
        "  match_reversed['Match 2 Days Since'] = match_reversed['Date'] - id_dict[match_reversed['Person 1 ID']][4] \r\n",
        "  match_reversed['Match 1 Days Since'] = match_reversed['Date'] - id_dict[match_reversed['Person 1 ID']][5]\r\n",
        "\r\n",
        "  try:\r\n",
        "    match_reversed['Match 3 Betwixt Result'] = combo_dict[match_reversed['Person 1 ID'] + ' vs. ' + match_reversed['Person 2 ID']][0]\r\n",
        "  except:\r\n",
        "    match_reversed['Match 3 Betwixt Result'] = None\r\n",
        "  try:\r\n",
        "    match_reversed['Match 2 Betwixt Result'] = combo_dict[match_reversed['Person 1 ID'] + ' vs. ' + match_reversed['Person 2 ID']][1]\r\n",
        "  except:\r\n",
        "    match_reversed['Match 2 Betwixt Result'] = None\r\n",
        "  try:\r\n",
        "    match_reversed['Match 1 Betwixt Result'] = combo_dict[match_reversed['Person 1 ID'] + ' vs. ' + match_reversed['Person 2 ID']][2]\r\n",
        "  except:\r\n",
        "    match_reversed['Match 1 Betwixt Result'] = None\r\n",
        "  try:\r\n",
        "    match_reversed['Match 3 Betwixt Days Since'] = match_reversed['Date'] - combo_dict[match_reversed['Person 1 ID'] + ' vs. ' + match_reversed['Person 2 ID']][3]\r\n",
        "  except:\r\n",
        "    match_reversed['Match 3 Betwixt Days Since'] = 0\r\n",
        "  try:\r\n",
        "    match_reversed['Match 2 Betwixt Days Since'] = match_reversed['Date'] - combo_dict[match_reversed['Person 1 ID'] + ' vs. ' + match_reversed['Person 2 ID']][4]\r\n",
        "  except:\r\n",
        "    match_reversed['Match 2 Betwixt Days Since'] = 0\r\n",
        "  try:\r\n",
        "    match_reversed['Match 1 Betwixt Days Since'] = match_reversed['Date'] - combo_dict[match_reversed['Person 1 ID'] + ' vs. ' + match_reversed['Person 2 ID']][5]\r\n",
        "  except:\r\n",
        "    match_reversed['Match 1 Betwixt Days Since'] = 0\r\n",
        "  \r\n",
        "  df_match = pd.DataFrame()\r\n",
        "  df_match = df_match.append(match, ignore_index=True)\r\n",
        "  df_match = df_match.append(match_reversed, ignore_index=True)\r\n",
        "\r\n",
        "  df_match['Attendance'] = ''\r\n",
        "  df_match['Match Time'] = ''\r\n",
        "  df_match['Result Descriptor'] = ''\r\n",
        "  df_match['Stipulation'] = ''\r\n",
        "  df_match['WON Rating'] = ''\r\n",
        "  df_match['Event'] = ''\r\n",
        "  df_match['Result'] = ''\r\n",
        "  df_match['Person 1 Name'] = ''\r\n",
        "  df_match['Person 2 Name'] = ''\r\n",
        "\r\n",
        "  df_match = df_match[df_train.columns]\r\n",
        "  X_match_processed = full_pipeline.transform(df_match)\r\n",
        "  prediction_matrix = xgb.predict_proba(X_match_processed)\r\n",
        "  prob_1_wins = prediction_matrix[0][1]\r\n",
        "  prob_2_wins = prediction_matrix[1][1]\r\n",
        "  prob_draw = 1 - prob_1_wins - prob_2_wins\r\n",
        "  if prob_draw < 0:\r\n",
        "    new_prob_1_wins = prob_1_wins / (prob_1_wins + prob_2_wins)\r\n",
        "    new_prob_2_wins = prob_2_wins / (prob_1_wins + prob_2_wins)\r\n",
        "    prob_1_wins = new_prob_1_wins\r\n",
        "    prob_2_wins = new_prob_2_wins\r\n",
        "    prob_draw = 0\r\n",
        "  \r\n",
        "  print(person_1_name+' wins with probability '+'{:.2%}'.format(prob_1_wins))\r\n",
        "  print(person_2_name+' wins with probability '+'{:.2%}'.format(prob_2_wins))\r\n",
        "  print('Draw with probability '+'{:.2%}'.format(prob_draw))"
      ],
      "execution_count": null,
      "outputs": []
    },
    {
      "cell_type": "markdown",
      "metadata": {
        "id": "hDEW3XR9ERqU"
      },
      "source": [
        "Predicting the Wrestle Kingdom 15 results..."
      ]
    },
    {
      "cell_type": "code",
      "metadata": {
        "colab": {
          "base_uri": "https://localhost:8080/"
        },
        "id": "6zsoLfPqCguS",
        "outputId": "caa7b57e-0c5b-408f-829a-4537c1da44ff"
      },
      "source": [
        "predict_winner('2021-01-04',1,1,0,'Wrestle Kingdom','Tokyo Dome, Tokyo, Tokyo','Tetsuya Naito','Kota Ibushi','IWGP Intercontinental ChampionshipIWGP World Heavyweight Championship')"
      ],
      "execution_count": null,
      "outputs": [
        {
          "output_type": "stream",
          "text": [
            "Tetsuya Naito wins with probability 36.40%\n",
            "Kota Ibushi wins with probability 46.70%\n",
            "Draw with probability 16.90%\n"
          ],
          "name": "stdout"
        }
      ]
    },
    {
      "cell_type": "code",
      "metadata": {
        "id": "I8Id1T3-lb70",
        "colab": {
          "base_uri": "https://localhost:8080/"
        },
        "outputId": "6848035a-dc42-428b-9758-34503e6108b6"
      },
      "source": [
        "predict_winner('2021-01-04',2,0,0,'Wrestle Kingdom','Tokyo Dome, Tokyo, Tokyo','Kazuchika Okada','Will Ospreay','')"
      ],
      "execution_count": null,
      "outputs": [
        {
          "output_type": "stream",
          "text": [
            "Kazuchika Okada wins with probability 63.17%\n",
            "Will Ospreay wins with probability 18.59%\n",
            "Draw with probability 18.24%\n"
          ],
          "name": "stdout"
        }
      ]
    },
    {
      "cell_type": "code",
      "metadata": {
        "colab": {
          "base_uri": "https://localhost:8080/"
        },
        "id": "1bxM2JY4p7xO",
        "outputId": "65a32955-5ad0-4193-cce0-f5cb1516d450"
      },
      "source": [
        "predict_winner('2021-01-04',3,0,0,'Wrestle Kingdom','Tokyo Dome, Tokyo, Tokyo','Hiroshi Tanahashi','Great O-Khan','')"
      ],
      "execution_count": null,
      "outputs": [
        {
          "output_type": "stream",
          "text": [
            "Hiroshi Tanahashi wins with probability 61.94%\n",
            "Great O-Khan wins with probability 38.06%\n",
            "Draw with probability 0.00%\n"
          ],
          "name": "stdout"
        }
      ]
    },
    {
      "cell_type": "code",
      "metadata": {
        "colab": {
          "base_uri": "https://localhost:8080/"
        },
        "id": "2K2F0Kb7HFgi",
        "outputId": "b3570884-81b7-4273-9a5d-26a5e9e0b70c"
      },
      "source": [
        "predict_winner('2021-01-04',4,0,0,'Wrestle Kingdom','Tokyo Dome, Tokyo, Tokyo','KENTA','Satoshi Kojima','')"
      ],
      "execution_count": null,
      "outputs": [
        {
          "output_type": "stream",
          "text": [
            "KENTA wins with probability 50.49%\n",
            "Satoshi Kojima wins with probability 49.51%\n",
            "Draw with probability 0.00%\n"
          ],
          "name": "stdout"
        }
      ]
    },
    {
      "cell_type": "code",
      "metadata": {
        "colab": {
          "base_uri": "https://localhost:8080/"
        },
        "id": "NRTLjJXxHr8Z",
        "outputId": "b13de24c-26c9-4d54-ed53-0c122a906239"
      },
      "source": [
        "predict_winner('2021-01-04',6,0,0,'Wrestle Kingdom','Tokyo Dome, Tokyo, Tokyo','Hiromu Takahashi','El Phantasmo','')"
      ],
      "execution_count": null,
      "outputs": [
        {
          "output_type": "stream",
          "text": [
            "Hiromu Takahashi wins with probability 54.24%\n",
            "El Phantasmo wins with probability 45.76%\n",
            "Draw with probability 0.00%\n"
          ],
          "name": "stdout"
        }
      ]
    },
    {
      "cell_type": "markdown",
      "metadata": {
        "id": "EvJsCGwxJJ71"
      },
      "source": [
        "And then Night 2...\r\n",
        "\r\n"
      ]
    },
    {
      "cell_type": "code",
      "metadata": {
        "colab": {
          "base_uri": "https://localhost:8080/"
        },
        "id": "VRmvavp-LIlT",
        "outputId": "3d8b6140-b404-46cc-cea7-a2ca323d7a08"
      },
      "source": [
        "predict_winner('2021-01-05',1,1,0,'Wrestle Kingdom','Tokyo Dome, Tokyo, Tokyo','Kota Ibushi','Jay White','IWGP Intercontinental ChampionshipIWGP World Heavyweight Championship')"
      ],
      "execution_count": null,
      "outputs": [
        {
          "output_type": "stream",
          "text": [
            "Kota Ibushi wins with probability 40.81%\n",
            "Jay White wins with probability 45.77%\n",
            "Draw with probability 13.43%\n"
          ],
          "name": "stdout"
        }
      ]
    },
    {
      "cell_type": "code",
      "metadata": {
        "colab": {
          "base_uri": "https://localhost:8080/"
        },
        "id": "vCcnUNBjL54Q",
        "outputId": "50c40151-ccf6-466c-cb96-08c8e67e5651"
      },
      "source": [
        "predict_winner('2021-01-05',1,1,0,'Wrestle Kingdom','Tokyo Dome, Tokyo, Tokyo','Tetsuya Naito','Jay White','IWGP Intercontinental ChampionshipIWGP World Heavyweight Championship')"
      ],
      "execution_count": null,
      "outputs": [
        {
          "output_type": "stream",
          "text": [
            "Tetsuya Naito wins with probability 34.44%\n",
            "Jay White wins with probability 43.30%\n",
            "Draw with probability 22.26%\n"
          ],
          "name": "stdout"
        }
      ]
    },
    {
      "cell_type": "code",
      "metadata": {
        "colab": {
          "base_uri": "https://localhost:8080/"
        },
        "id": "cAUKP9SnL1oR",
        "outputId": "ace9c125-ecd9-492c-ce40-90774bd7d5c7"
      },
      "source": [
        "predict_winner('2021-01-05',2,1,0,'Wrestle Kingdom','Tokyo Dome, Tokyo, Tokyo','Taiji Ishimori','Hiromu Takahashi','IWGP Junior Heavyweight Title')"
      ],
      "execution_count": null,
      "outputs": [
        {
          "output_type": "stream",
          "text": [
            "Taiji Ishimori wins with probability 54.40%\n",
            "Hiromu Takahashi wins with probability 45.60%\n",
            "Draw with probability 0.00%\n"
          ],
          "name": "stdout"
        }
      ]
    },
    {
      "cell_type": "code",
      "metadata": {
        "colab": {
          "base_uri": "https://localhost:8080/"
        },
        "id": "VjfCb4ODNQWF",
        "outputId": "4e7572fd-e679-413a-9451-da14baf6588f"
      },
      "source": [
        "predict_winner('2021-01-05',2,1,0,'Wrestle Kingdom','Tokyo Dome, Tokyo, Tokyo','Taiji Ishimori','El Phantasmo','IWGP Junior Heavyweight Title')"
      ],
      "execution_count": null,
      "outputs": [
        {
          "output_type": "stream",
          "text": [
            "Taiji Ishimori wins with probability 69.45%\n",
            "El Phantasmo wins with probability 30.55%\n",
            "Draw with probability 0.00%\n"
          ],
          "name": "stdout"
        }
      ]
    },
    {
      "cell_type": "code",
      "metadata": {
        "colab": {
          "base_uri": "https://localhost:8080/"
        },
        "id": "LUAAGYm8MR4o",
        "outputId": "947e0be8-46ce-413e-c4fa-8276f6a970b8"
      },
      "source": [
        "predict_winner('2021-01-05',3,0,0,'Wrestle Kingdom','Tokyo Dome, Tokyo, Tokyo','SANADA','EVIL','')"
      ],
      "execution_count": null,
      "outputs": [
        {
          "output_type": "stream",
          "text": [
            "SANADA wins with probability 48.22%\n",
            "EVIL wins with probability 45.46%\n",
            "Draw with probability 6.32%\n"
          ],
          "name": "stdout"
        }
      ]
    },
    {
      "cell_type": "code",
      "metadata": {
        "colab": {
          "base_uri": "https://localhost:8080/"
        },
        "id": "EmKZTkv9Mm7f",
        "outputId": "2318c027-2f1b-4e00-a849-1148e931e10b"
      },
      "source": [
        "predict_winner('2021-01-05',4,1,0,'Wrestle Kingdom','Tokyo Dome, Tokyo, Tokyo','Shingo Takagi','Jeff Cobb','NEVER Openweight Championship')"
      ],
      "execution_count": null,
      "outputs": [
        {
          "output_type": "stream",
          "text": [
            "Shingo Takagi wins with probability 50.88%\n",
            "Jeff Cobb wins with probability 43.33%\n",
            "Draw with probability 5.79%\n"
          ],
          "name": "stdout"
        }
      ]
    },
    {
      "cell_type": "markdown",
      "metadata": {
        "id": "MXmGQUW8NWYy"
      },
      "source": [
        "Final predicted results:\r\n",
        "\r\n",
        "Night 1:\r\n",
        "- Kota Ibushi def. Tetsuya Naito (c)\r\n",
        "- Kazuchika Okada def. Will Ospreay\r\n",
        "- Hiroshi Tanahashi def. Great O'Khan\r\n",
        "- KENTA def. Satoshi Kojima\r\n",
        "- Hiromu Takahashi def. El Phantasmo\r\n",
        "\r\n",
        "Night 2:\r\n",
        "- Jay White def. Kota Ibushi (c)\r\n",
        "- Taiji Ishimori (c) def. Hiromu Takahashi\r\n",
        "- SANADA def. EVIL\r\n",
        "- Shingo Takagi (c) def. Jeff Cobb"
      ]
    }
  ]
}